{
 "cells": [
  {
   "cell_type": "code",
   "execution_count": 1,
   "metadata": {
    "scrolled": true
   },
   "outputs": [],
   "source": [
    "\"\"\"\n",
    "Import Statements\n",
    "\"\"\"\n",
    "\n",
    "import numpy as np\n",
    "import matplotlib.pyplot as plt\n",
    "import sklearn\n",
    "import pandas as pd\n",
    "from geopy import distance\n",
    "import math\n",
    "from matplotlib.patches import Ellipse"
   ]
  },
  {
   "cell_type": "code",
   "execution_count": 2,
   "metadata": {},
   "outputs": [
    {
     "name": "stderr",
     "output_type": "stream",
     "text": [
      "/home/sachk/.local/lib/python3.6/site-packages/IPython/core/interactiveshell.py:2785: DtypeWarning: Columns (14) have mixed types. Specify dtype option on import or set low_memory=False.\n",
      "  interactivity=interactivity, compiler=compiler, result=result)\n"
     ]
    }
   ],
   "source": [
    "\"\"\"\n",
    "Reading in CSV File\n",
    "\"\"\"\n",
    "\n",
    "data = pd.read_csv('metro-bike-share-trip-data.csv', parse_dates = ['Start Time', 'End Time'], infer_datetime_format = True)"
   ]
  },
  {
   "cell_type": "code",
   "execution_count": 3,
   "metadata": {
    "scrolled": false
   },
   "outputs": [
    {
     "data": {
      "text/html": [
       "<div>\n",
       "<style scoped>\n",
       "    .dataframe tbody tr th:only-of-type {\n",
       "        vertical-align: middle;\n",
       "    }\n",
       "\n",
       "    .dataframe tbody tr th {\n",
       "        vertical-align: top;\n",
       "    }\n",
       "\n",
       "    .dataframe thead th {\n",
       "        text-align: right;\n",
       "    }\n",
       "</style>\n",
       "<table border=\"1\" class=\"dataframe\">\n",
       "  <thead>\n",
       "    <tr style=\"text-align: right;\">\n",
       "      <th></th>\n",
       "      <th>Trip ID</th>\n",
       "      <th>Duration</th>\n",
       "      <th>Start Time</th>\n",
       "      <th>End Time</th>\n",
       "      <th>Starting Station ID</th>\n",
       "      <th>Starting Station Latitude</th>\n",
       "      <th>Starting Station Longitude</th>\n",
       "      <th>Ending Station ID</th>\n",
       "      <th>Ending Station Latitude</th>\n",
       "      <th>Ending Station Longitude</th>\n",
       "      <th>Bike ID</th>\n",
       "      <th>Plan Duration</th>\n",
       "      <th>Trip Route Category</th>\n",
       "      <th>Passholder Type</th>\n",
       "      <th>Starting Lat-Long</th>\n",
       "      <th>Ending Lat-Long</th>\n",
       "    </tr>\n",
       "  </thead>\n",
       "  <tbody>\n",
       "    <tr>\n",
       "      <th>0</th>\n",
       "      <td>1912818</td>\n",
       "      <td>180</td>\n",
       "      <td>2016-07-07 04:17:00</td>\n",
       "      <td>2016-07-07 04:20:00</td>\n",
       "      <td>3014.0</td>\n",
       "      <td>34.056610</td>\n",
       "      <td>-118.23721</td>\n",
       "      <td>3014.0</td>\n",
       "      <td>34.056610</td>\n",
       "      <td>-118.23721</td>\n",
       "      <td>6281.0</td>\n",
       "      <td>30.0</td>\n",
       "      <td>Round Trip</td>\n",
       "      <td>Monthly Pass</td>\n",
       "      <td>{'longitude': '-118.23721', 'latitude': '34.05...</td>\n",
       "      <td>{'longitude': '-118.23721', 'latitude': '34.05...</td>\n",
       "    </tr>\n",
       "    <tr>\n",
       "      <th>1</th>\n",
       "      <td>1919661</td>\n",
       "      <td>1980</td>\n",
       "      <td>2016-07-07 06:00:00</td>\n",
       "      <td>2016-07-07 06:33:00</td>\n",
       "      <td>3014.0</td>\n",
       "      <td>34.056610</td>\n",
       "      <td>-118.23721</td>\n",
       "      <td>3014.0</td>\n",
       "      <td>34.056610</td>\n",
       "      <td>-118.23721</td>\n",
       "      <td>6281.0</td>\n",
       "      <td>30.0</td>\n",
       "      <td>Round Trip</td>\n",
       "      <td>Monthly Pass</td>\n",
       "      <td>{'longitude': '-118.23721', 'latitude': '34.05...</td>\n",
       "      <td>{'longitude': '-118.23721', 'latitude': '34.05...</td>\n",
       "    </tr>\n",
       "    <tr>\n",
       "      <th>2</th>\n",
       "      <td>1933383</td>\n",
       "      <td>300</td>\n",
       "      <td>2016-07-07 10:32:00</td>\n",
       "      <td>2016-07-07 10:37:00</td>\n",
       "      <td>3016.0</td>\n",
       "      <td>34.052898</td>\n",
       "      <td>-118.24156</td>\n",
       "      <td>3016.0</td>\n",
       "      <td>34.052898</td>\n",
       "      <td>-118.24156</td>\n",
       "      <td>5861.0</td>\n",
       "      <td>365.0</td>\n",
       "      <td>Round Trip</td>\n",
       "      <td>Flex Pass</td>\n",
       "      <td>{'longitude': '-118.24156', 'latitude': '34.05...</td>\n",
       "      <td>{'longitude': '-118.24156', 'latitude': '34.05...</td>\n",
       "    </tr>\n",
       "    <tr>\n",
       "      <th>3</th>\n",
       "      <td>1944197</td>\n",
       "      <td>10860</td>\n",
       "      <td>2016-07-07 10:37:00</td>\n",
       "      <td>2016-07-07 13:38:00</td>\n",
       "      <td>3016.0</td>\n",
       "      <td>34.052898</td>\n",
       "      <td>-118.24156</td>\n",
       "      <td>3016.0</td>\n",
       "      <td>34.052898</td>\n",
       "      <td>-118.24156</td>\n",
       "      <td>5861.0</td>\n",
       "      <td>365.0</td>\n",
       "      <td>Round Trip</td>\n",
       "      <td>Flex Pass</td>\n",
       "      <td>{'longitude': '-118.24156', 'latitude': '34.05...</td>\n",
       "      <td>{'longitude': '-118.24156', 'latitude': '34.05...</td>\n",
       "    </tr>\n",
       "    <tr>\n",
       "      <th>4</th>\n",
       "      <td>1940317</td>\n",
       "      <td>420</td>\n",
       "      <td>2016-07-07 12:51:00</td>\n",
       "      <td>2016-07-07 12:58:00</td>\n",
       "      <td>3032.0</td>\n",
       "      <td>34.049889</td>\n",
       "      <td>-118.25588</td>\n",
       "      <td>3032.0</td>\n",
       "      <td>34.049889</td>\n",
       "      <td>-118.25588</td>\n",
       "      <td>6674.0</td>\n",
       "      <td>0.0</td>\n",
       "      <td>Round Trip</td>\n",
       "      <td>Walk-up</td>\n",
       "      <td>{'longitude': '-118.25588', 'latitude': '34.04...</td>\n",
       "      <td>{'longitude': '-118.25588', 'latitude': '34.04...</td>\n",
       "    </tr>\n",
       "  </tbody>\n",
       "</table>\n",
       "</div>"
      ],
      "text/plain": [
       "   Trip ID  Duration          Start Time            End Time  \\\n",
       "0  1912818       180 2016-07-07 04:17:00 2016-07-07 04:20:00   \n",
       "1  1919661      1980 2016-07-07 06:00:00 2016-07-07 06:33:00   \n",
       "2  1933383       300 2016-07-07 10:32:00 2016-07-07 10:37:00   \n",
       "3  1944197     10860 2016-07-07 10:37:00 2016-07-07 13:38:00   \n",
       "4  1940317       420 2016-07-07 12:51:00 2016-07-07 12:58:00   \n",
       "\n",
       "   Starting Station ID  Starting Station Latitude  Starting Station Longitude  \\\n",
       "0               3014.0                  34.056610                  -118.23721   \n",
       "1               3014.0                  34.056610                  -118.23721   \n",
       "2               3016.0                  34.052898                  -118.24156   \n",
       "3               3016.0                  34.052898                  -118.24156   \n",
       "4               3032.0                  34.049889                  -118.25588   \n",
       "\n",
       "   Ending Station ID  Ending Station Latitude  Ending Station Longitude  \\\n",
       "0             3014.0                34.056610                -118.23721   \n",
       "1             3014.0                34.056610                -118.23721   \n",
       "2             3016.0                34.052898                -118.24156   \n",
       "3             3016.0                34.052898                -118.24156   \n",
       "4             3032.0                34.049889                -118.25588   \n",
       "\n",
       "   Bike ID  Plan Duration Trip Route Category Passholder Type  \\\n",
       "0   6281.0           30.0          Round Trip    Monthly Pass   \n",
       "1   6281.0           30.0          Round Trip    Monthly Pass   \n",
       "2   5861.0          365.0          Round Trip       Flex Pass   \n",
       "3   5861.0          365.0          Round Trip       Flex Pass   \n",
       "4   6674.0            0.0          Round Trip         Walk-up   \n",
       "\n",
       "                                   Starting Lat-Long  \\\n",
       "0  {'longitude': '-118.23721', 'latitude': '34.05...   \n",
       "1  {'longitude': '-118.23721', 'latitude': '34.05...   \n",
       "2  {'longitude': '-118.24156', 'latitude': '34.05...   \n",
       "3  {'longitude': '-118.24156', 'latitude': '34.05...   \n",
       "4  {'longitude': '-118.25588', 'latitude': '34.04...   \n",
       "\n",
       "                                     Ending Lat-Long  \n",
       "0  {'longitude': '-118.23721', 'latitude': '34.05...  \n",
       "1  {'longitude': '-118.23721', 'latitude': '34.05...  \n",
       "2  {'longitude': '-118.24156', 'latitude': '34.05...  \n",
       "3  {'longitude': '-118.24156', 'latitude': '34.05...  \n",
       "4  {'longitude': '-118.25588', 'latitude': '34.04...  "
      ]
     },
     "execution_count": 3,
     "metadata": {},
     "output_type": "execute_result"
    }
   ],
   "source": [
    "\"Visualizing what we are dealing with\"\n",
    "data.head()"
   ]
  },
  {
   "cell_type": "code",
   "execution_count": 4,
   "metadata": {},
   "outputs": [
    {
     "data": {
      "text/html": [
       "<div>\n",
       "<style scoped>\n",
       "    .dataframe tbody tr th:only-of-type {\n",
       "        vertical-align: middle;\n",
       "    }\n",
       "\n",
       "    .dataframe tbody tr th {\n",
       "        vertical-align: top;\n",
       "    }\n",
       "\n",
       "    .dataframe thead th {\n",
       "        text-align: right;\n",
       "    }\n",
       "</style>\n",
       "<table border=\"1\" class=\"dataframe\">\n",
       "  <thead>\n",
       "    <tr style=\"text-align: right;\">\n",
       "      <th>Trip Route Category</th>\n",
       "      <th>One Way</th>\n",
       "      <th>Round Trip</th>\n",
       "    </tr>\n",
       "    <tr>\n",
       "      <th>Plan Duration</th>\n",
       "      <th></th>\n",
       "      <th></th>\n",
       "    </tr>\n",
       "  </thead>\n",
       "  <tbody>\n",
       "    <tr>\n",
       "      <th>0.0</th>\n",
       "      <td>32777</td>\n",
       "      <td>8447</td>\n",
       "    </tr>\n",
       "    <tr>\n",
       "      <th>30.0</th>\n",
       "      <td>77215</td>\n",
       "      <td>3705</td>\n",
       "    </tr>\n",
       "    <tr>\n",
       "      <th>365.0</th>\n",
       "      <td>9034</td>\n",
       "      <td>483</td>\n",
       "    </tr>\n",
       "  </tbody>\n",
       "</table>\n",
       "</div>"
      ],
      "text/plain": [
       "Trip Route Category  One Way  Round Trip\n",
       "Plan Duration                           \n",
       "0.0                    32777        8447\n",
       "30.0                   77215        3705\n",
       "365.0                   9034         483"
      ]
     },
     "execution_count": 4,
     "metadata": {},
     "output_type": "execute_result"
    }
   ],
   "source": [
    "\"\"\"\n",
    "Establishing any relation between Plan Duration, which is either 0, 30, 365, and Trip Route Category, which is either oneway\n",
    "or roundtrip.\n",
    "\n",
    "For the pivot_tables, the index represents the rows, columns represents columns, values is the specific column of data, which\n",
    "we will be summing to get a count for a specific index and column\n",
    "\n",
    "\"\"\"\n",
    "\n",
    "data.pivot_table(index = 'Plan Duration', columns = 'Trip Route Category', values = 'Trip ID', aggfunc = 'count')"
   ]
  },
  {
   "cell_type": "code",
   "execution_count": 5,
   "metadata": {
    "scrolled": true
   },
   "outputs": [
    {
     "data": {
      "text/plain": [
       "array(['Monthly Pass', 'Flex Pass', 'Walk-up', 'Staff Annual'],\n",
       "      dtype=object)"
      ]
     },
     "execution_count": 5,
     "metadata": {},
     "output_type": "execute_result"
    }
   ],
   "source": [
    "#Establish that there are four different Pass Types\n",
    "data['Passholder Type'].unique()"
   ]
  },
  {
   "cell_type": "code",
   "execution_count": 6,
   "metadata": {},
   "outputs": [],
   "source": [
    "\"\"\"\n",
    "Create helpful columns in the data matrix that take information from date, such as the day (range = 0-6) or hour (range = 0-23), etc.\n",
    "\n",
    "\"\"\"\n",
    "\n",
    "data['date'] = pd.DatetimeIndex(data['Start Time']).date.astype('datetime64')\n",
    "data['hour'] = pd.DatetimeIndex(data['Start Time']).hour\n",
    "data['day'] = pd.DatetimeIndex(data['Start Time']).dayofweek\n",
    "data['month'] = pd.DatetimeIndex(data['Start Time']).month\n",
    "data['season']  = pd.DatetimeIndex(data['Start Time']).month"
   ]
  },
  {
   "cell_type": "code",
   "execution_count": 7,
   "metadata": {
    "scrolled": true
   },
   "outputs": [
    {
     "data": {
      "text/plain": [
       "'\\nSpring runs from March 1 to May 31;\\nSummer runs from June 1 to August 31;\\nFall (autumn) runs from September 1 to November 30; and\\nWinter runs from December 1 to February 28 (February 29 in a leap year).\\n\\nSource for Commute Leave: http://overflow.solutions/demographic-data/what-time-does-the-average-american-leave-for-work/\\n'"
      ]
     },
     "execution_count": 7,
     "metadata": {},
     "output_type": "execute_result"
    }
   ],
   "source": [
    "\"\"\"\n",
    "Spring runs from March 1 to May 31;\n",
    "Summer runs from June 1 to August 31;\n",
    "Fall (autumn) runs from September 1 to November 30; and\n",
    "Winter runs from December 1 to February 28 (February 29 in a leap year).\n",
    "\n",
    "Source for Commute Leave: http://overflow.solutions/demographic-data/what-time-does-the-average-american-leave-for-work/\n",
    "\"\"\""
   ]
  },
  {
   "cell_type": "code",
   "execution_count": 8,
   "metadata": {
    "scrolled": true
   },
   "outputs": [
    {
     "name": "stderr",
     "output_type": "stream",
     "text": [
      "/home/sachk/.local/lib/python3.6/site-packages/pandas/core/indexing.py:189: SettingWithCopyWarning: \n",
      "A value is trying to be set on a copy of a slice from a DataFrame\n",
      "\n",
      "See the caveats in the documentation: http://pandas.pydata.org/pandas-docs/stable/indexing.html#indexing-view-versus-copy\n",
      "  self._setitem_with_indexer(indexer, value)\n"
     ]
    }
   ],
   "source": [
    "\"\"\"\n",
    "Right now, season is a boolean value, but to convert it to a string, a series of comparisons are made, based on monthly information\n",
    "I found online\n",
    "\"\"\"\n",
    "\n",
    "data['season'].loc[data['month'] >= 1] = 'winter'\n",
    "data['season'].loc[data['month'] >= 3] = 'spring'\n",
    "data['season'].loc[data['month'] >= 5] = 'summer'\n",
    "data['season'].loc[data['month'] >= 10] = 'fall'\n",
    "data['season'].loc[data['month'] >= 12] = 'winter'"
   ]
  },
  {
   "cell_type": "code",
   "execution_count": 9,
   "metadata": {
    "scrolled": true
   },
   "outputs": [
    {
     "data": {
      "text/plain": [
       "summer    55439\n",
       "fall      32589\n",
       "winter    30493\n",
       "spring    13906\n",
       "Name: season, dtype: int64"
      ]
     },
     "execution_count": 9,
     "metadata": {},
     "output_type": "execute_result"
    }
   ],
   "source": [
    "#Get the frequency of each season\n",
    "\n",
    "data['season'].value_counts()"
   ]
  },
  {
   "cell_type": "code",
   "execution_count": 10,
   "metadata": {
    "scrolled": false
   },
   "outputs": [
    {
     "data": {
      "text/html": [
       "<div>\n",
       "<style scoped>\n",
       "    .dataframe tbody tr th:only-of-type {\n",
       "        vertical-align: middle;\n",
       "    }\n",
       "\n",
       "    .dataframe tbody tr th {\n",
       "        vertical-align: top;\n",
       "    }\n",
       "\n",
       "    .dataframe thead th {\n",
       "        text-align: right;\n",
       "    }\n",
       "</style>\n",
       "<table border=\"1\" class=\"dataframe\">\n",
       "  <thead>\n",
       "    <tr style=\"text-align: right;\">\n",
       "      <th>Passholder Type</th>\n",
       "      <th>Flex Pass</th>\n",
       "      <th>Monthly Pass</th>\n",
       "      <th>Staff Annual</th>\n",
       "      <th>Walk-up</th>\n",
       "    </tr>\n",
       "    <tr>\n",
       "      <th>date</th>\n",
       "      <th></th>\n",
       "      <th></th>\n",
       "      <th></th>\n",
       "      <th></th>\n",
       "    </tr>\n",
       "  </thead>\n",
       "  <tbody>\n",
       "    <tr>\n",
       "      <th>2016-07-07</th>\n",
       "      <td>61.0</td>\n",
       "      <td>128.0</td>\n",
       "      <td>0.0</td>\n",
       "      <td>1.0</td>\n",
       "    </tr>\n",
       "    <tr>\n",
       "      <th>2016-07-08</th>\n",
       "      <td>93.0</td>\n",
       "      <td>251.0</td>\n",
       "      <td>0.0</td>\n",
       "      <td>1.0</td>\n",
       "    </tr>\n",
       "    <tr>\n",
       "      <th>2016-07-09</th>\n",
       "      <td>113.0</td>\n",
       "      <td>308.0</td>\n",
       "      <td>0.0</td>\n",
       "      <td>0.0</td>\n",
       "    </tr>\n",
       "    <tr>\n",
       "      <th>2016-07-10</th>\n",
       "      <td>75.0</td>\n",
       "      <td>259.0</td>\n",
       "      <td>0.0</td>\n",
       "      <td>0.0</td>\n",
       "    </tr>\n",
       "    <tr>\n",
       "      <th>2016-07-11</th>\n",
       "      <td>55.0</td>\n",
       "      <td>295.0</td>\n",
       "      <td>0.0</td>\n",
       "      <td>0.0</td>\n",
       "    </tr>\n",
       "  </tbody>\n",
       "</table>\n",
       "</div>"
      ],
      "text/plain": [
       "Passholder Type  Flex Pass  Monthly Pass  Staff Annual  Walk-up\n",
       "date                                                           \n",
       "2016-07-07            61.0         128.0           0.0      1.0\n",
       "2016-07-08            93.0         251.0           0.0      1.0\n",
       "2016-07-09           113.0         308.0           0.0      0.0\n",
       "2016-07-10            75.0         259.0           0.0      0.0\n",
       "2016-07-11            55.0         295.0           0.0      0.0"
      ]
     },
     "execution_count": 10,
     "metadata": {},
     "output_type": "execute_result"
    }
   ],
   "source": [
    "#Generate a pivot table whose index is date, to visualize \n",
    "\n",
    "by_date = data.pivot_table(index = 'date', values = 'Trip ID', aggfunc = 'count', columns = 'Passholder Type').fillna(0)\n",
    "by_date.head()"
   ]
  },
  {
   "cell_type": "code",
   "execution_count": 11,
   "metadata": {
    "scrolled": true
   },
   "outputs": [
    {
     "data": {
      "text/html": [
       "<div>\n",
       "<style scoped>\n",
       "    .dataframe tbody tr th:only-of-type {\n",
       "        vertical-align: middle;\n",
       "    }\n",
       "\n",
       "    .dataframe tbody tr th {\n",
       "        vertical-align: top;\n",
       "    }\n",
       "\n",
       "    .dataframe thead th {\n",
       "        text-align: right;\n",
       "    }\n",
       "</style>\n",
       "<table border=\"1\" class=\"dataframe\">\n",
       "  <thead>\n",
       "    <tr style=\"text-align: right;\">\n",
       "      <th>Plan Duration</th>\n",
       "      <th>0.0</th>\n",
       "      <th>30.0</th>\n",
       "      <th>365.0</th>\n",
       "    </tr>\n",
       "    <tr>\n",
       "      <th>date</th>\n",
       "      <th></th>\n",
       "      <th></th>\n",
       "      <th></th>\n",
       "    </tr>\n",
       "  </thead>\n",
       "  <tbody>\n",
       "    <tr>\n",
       "      <th>2016-07-07</th>\n",
       "      <td>1.0</td>\n",
       "      <td>128.0</td>\n",
       "      <td>61.0</td>\n",
       "    </tr>\n",
       "    <tr>\n",
       "      <th>2016-07-08</th>\n",
       "      <td>1.0</td>\n",
       "      <td>251.0</td>\n",
       "      <td>93.0</td>\n",
       "    </tr>\n",
       "    <tr>\n",
       "      <th>2016-07-09</th>\n",
       "      <td>0.0</td>\n",
       "      <td>308.0</td>\n",
       "      <td>113.0</td>\n",
       "    </tr>\n",
       "    <tr>\n",
       "      <th>2016-07-10</th>\n",
       "      <td>0.0</td>\n",
       "      <td>259.0</td>\n",
       "      <td>75.0</td>\n",
       "    </tr>\n",
       "    <tr>\n",
       "      <th>2016-07-11</th>\n",
       "      <td>0.0</td>\n",
       "      <td>295.0</td>\n",
       "      <td>55.0</td>\n",
       "    </tr>\n",
       "  </tbody>\n",
       "</table>\n",
       "</div>"
      ],
      "text/plain": [
       "Plan Duration  0.0    30.0   365.0\n",
       "date                              \n",
       "2016-07-07       1.0  128.0   61.0\n",
       "2016-07-08       1.0  251.0   93.0\n",
       "2016-07-09       0.0  308.0  113.0\n",
       "2016-07-10       0.0  259.0   75.0\n",
       "2016-07-11       0.0  295.0   55.0"
      ]
     },
     "execution_count": 11,
     "metadata": {},
     "output_type": "execute_result"
    }
   ],
   "source": [
    "#Count Table of date's vs Plan Durations (Either 0, 30, or 365 (Walkup, Monthly, or Annual))\n",
    "\n",
    "nby_date = data.pivot_table(index = 'date', values = 'Trip ID', aggfunc = 'count', columns = 'Plan Duration').fillna(0)\n",
    "nby_date.head()"
   ]
  },
  {
   "cell_type": "code",
   "execution_count": 12,
   "metadata": {},
   "outputs": [],
   "source": [
    "nby_date.columns = ['Walk-Up', 'Monthly', 'Annual(Flex)']"
   ]
  },
  {
   "cell_type": "code",
   "execution_count": 14,
   "metadata": {},
   "outputs": [
    {
     "data": {
      "text/plain": [
       "Walk-Up        2016-10-16\n",
       "Monthly        2016-08-04\n",
       "Annual(Flex)   2016-07-09\n",
       "dtype: datetime64[ns]"
      ]
     },
     "execution_count": 14,
     "metadata": {},
     "output_type": "execute_result"
    }
   ],
   "source": [
    "#Dates with maximum value\n",
    "\n",
    "nby_date.idxmax()"
   ]
  },
  {
   "cell_type": "code",
   "execution_count": 15,
   "metadata": {},
   "outputs": [
    {
     "data": {
      "text/plain": [
       "1003.0"
      ]
     },
     "execution_count": 15,
     "metadata": {},
     "output_type": "execute_result"
    }
   ],
   "source": [
    "nby_date['Walk-Up']['2016-10-16']"
   ]
  },
  {
   "cell_type": "code",
   "execution_count": 16,
   "metadata": {
    "scrolled": true
   },
   "outputs": [
    {
     "data": {
      "text/plain": [
       "<matplotlib.axes._subplots.AxesSubplot at 0x7f1ca2b6ddd8>"
      ]
     },
     "execution_count": 16,
     "metadata": {},
     "output_type": "execute_result"
    },
    {
     "data": {
      "image/png": "[encoded data removed]",
      "text/plain": [
       "<Figure size 1008x216 with 1 Axes>"
      ]
     },
     "metadata": {
      "needs_background": "light"
     },
     "output_type": "display_data"
    }
   ],
   "source": [
    "\"\"\"\n",
    "Plot of Trip per Plan Usage over time\n",
    "\"\"\"\n",
    "\n",
    "fig, ax = plt.subplots(1, figsize = (14, 3))\n",
    "ax.set_ylabel(\"Trip Frequency\")\n",
    "fig.subplots_adjust(hspace=0.7)\n",
    "nby_date.iloc[:].plot(ax=ax, title = 'Time Series Frequency for Plans')"
   ]
  },
  {
   "cell_type": "code",
   "execution_count": 17,
   "metadata": {},
   "outputs": [],
   "source": [
    "df=data.dropna(subset=['Starting Station Latitude', 'Starting Station Longitude', 'Ending Station Latitude', 'Ending Station Longitude'])"
   ]
  },
  {
   "cell_type": "code",
   "execution_count": 18,
   "metadata": {},
   "outputs": [],
   "source": [
    "def weighted_avg_and_std(values, weights):\n",
    "    average = np.average(values, weights=weights)\n",
    "    # Fast and numerically precise:\n",
    "    variance = np.average((values-average)**2, weights=weights)\n",
    "    return (average, math.sqrt(variance))"
   ]
  },
  {
   "cell_type": "code",
   "execution_count": 19,
   "metadata": {
    "scrolled": true
   },
   "outputs": [
    {
     "name": "stdout",
     "output_type": "stream",
     "text": [
      "0.004737307887552592 0.010021147895684878\n"
     ]
    },
    {
     "data": {
      "image/png": "[encoded data removed]",
      "text/plain": [
       "<Figure size 432x288 with 1 Axes>"
      ]
     },
     "metadata": {
      "needs_background": "light"
     },
     "output_type": "display_data"
    }
   ],
   "source": [
    "pivoter = df.pivot_table(index = 'Ending Station ID', values = 'Trip ID', aggfunc = 'count').sort_values(by = 'Trip ID', ascending = False).iloc[0:40]\n",
    "pivoter2 = df.pivot_table(index = 'Starting Station ID', values = 'Trip ID', aggfunc = 'count').sort_values(by = 'Trip ID', ascending = False).iloc[0:40]\n",
    "\n",
    "\n",
    "\"\"\"\n",
    "pivoter is a sorted list of the highest frequency ending stations\n",
    "pivoter2 is a sorted list of the highest frequency station stations\n",
    "\n",
    "This plot shows the highest frequency end stations, with their ID's converted to lat,long coordinates\n",
    "\"\"\"\n",
    "count = 0\n",
    "lat_long = np.zeros(shape=(len(pivoter.index), 3))\n",
    "for i in pivoter.index:\n",
    "    try:\n",
    "        rez = data.iloc[np.where(data['Ending Station ID'] == i)].iloc[-1]\n",
    "        plt.scatter(rez['Ending Station Latitude'], rez['Ending Station Longitude'],\n",
    "                    alpha = pivoter.loc[i]/pivoter.max(), color = 'purple', marker = 'x', s = 80*pivoter.loc[i]/pivoter.max())\n",
    "        lat_long[count][0] = rez['Ending Station Latitude']\n",
    "        lat_long[count][1] = rez['Ending Station Longitude']\n",
    "        lat_long[count][2] = pivoter.loc[i]/pivoter.max()\n",
    "        count +=1\n",
    "    except:\n",
    "        pass\n",
    "\n",
    "lat_long[:,0].mean()\n",
    "plt.xlabel('Latitude')\n",
    "plt.ylabel('Longitude')\n",
    "plt.title('Ending Stations')\n",
    "plt.grid()\n",
    "mean_x, var_x = weighted_avg_and_std(lat_long[:,0], lat_long[:,2])\n",
    "mean_y, var_y = weighted_avg_and_std(lat_long[:,1], lat_long[:,2])\n",
    "\n",
    "print(var_x, var_y)\n",
    "plt.scatter(mean_x,mean_y , color = 'red', s = 100)\n",
    "ax = plt.gca()\n",
    "ax.add_patch(Ellipse( (mean_x, mean_y), 2*var_x, 2*var_y, fill = False))\n",
    "largest = data.iloc[np.where(data['Ending Station ID'] == pivoter.iloc[0].name)].iloc[0]"
   ]
  },
  {
   "cell_type": "code",
   "execution_count": 20,
   "metadata": {
    "scrolled": false
   },
   "outputs": [
    {
     "name": "stdout",
     "output_type": "stream",
     "text": [
      "0.0052797967270046126 0.009096701756193308\n"
     ]
    },
    {
     "data": {
      "image/png": "[encoded data removed]",
      "text/plain": [
       "<Figure size 432x288 with 1 Axes>"
      ]
     },
     "metadata": {
      "needs_background": "light"
     },
     "output_type": "display_data"
    }
   ],
   "source": [
    "\"\"\"\n",
    "This is a similar plot to the above, but is a plot of Starting Station ID's\n",
    "\"\"\"\n",
    "\n",
    "count = 0\n",
    "lat_long = np.zeros(shape=(len(pivoter2.index), 3))\n",
    "for i in pivoter2.index:\n",
    "    try:\n",
    "        rez = data.iloc[np.where(data['Starting Station ID'] == i)].iloc[-1]\n",
    "        plt.scatter(rez['Starting Station Latitude'], rez['Starting Station Longitude'],\n",
    "                    alpha = pivoter2.loc[i]/pivoter2.max(), color = 'black', marker = '+', s = 80*pivoter2.loc[i]/pivoter2.max())\n",
    "        lat_long[count][0] = rez['Starting Station Latitude']\n",
    "        lat_long[count][1] = rez['Starting Station Longitude']\n",
    "        lat_long[count][2] = pivoter2.loc[i]/pivoter2.max()\n",
    "        count +=1\n",
    "    except:\n",
    "        pass\n",
    "\n",
    "plt.xlabel('Latitude')\n",
    "plt.ylabel('Longitude')\n",
    "plt.title('Starting Stations')\n",
    "plt.grid()\n",
    "plt.xlim(34.03, 34.07)\n",
    "plt.ylim(-118.28,-118.23)\n",
    "mean_x, var_x = weighted_avg_and_std(lat_long[:,0], lat_long[:,2])\n",
    "mean_y, var_y = weighted_avg_and_std(lat_long[:,1], lat_long[:,2])\n",
    "\n",
    "print(var_x, var_y)\n",
    "plt.scatter(mean_x,mean_y , color = 'red', s = 100)\n",
    "ax = plt.gca()\n",
    "ax.add_patch(Ellipse( (mean_x, mean_y), 2*var_x, 2*var_y, fill = False))\n",
    "\n",
    "largest = data.iloc[np.where(data['Starting Station ID'] == pivoter.iloc[0].name)].iloc[0]"
   ]
  },
  {
   "cell_type": "code",
   "execution_count": 21,
   "metadata": {
    "scrolled": true
   },
   "outputs": [
    {
     "data": {
      "text/plain": [
       "[[3005.0, 11113],\n",
       " [3069.0, 10164],\n",
       " [3031.0, 10111],\n",
       " [3014.0, 9929],\n",
       " [3042.0, 9274],\n",
       " [3030.0, 9260],\n",
       " [3064.0, 9219],\n",
       " [3082.0, 8560],\n",
       " [3022.0, 8194],\n",
       " [3067.0, 7256],\n",
       " [3035.0, 6906],\n",
       " [3063.0, 6683],\n",
       " [3038.0, 6476],\n",
       " [3048.0, 6131],\n",
       " [3034.0, 6052],\n",
       " [3055.0, 5703],\n",
       " [3049.0, 5623],\n",
       " [3006.0, 5504],\n",
       " [3032.0, 5229],\n",
       " [3007.0, 4758],\n",
       " [3074.0, 4688],\n",
       " [3062.0, 4475],\n",
       " [3023.0, 4459],\n",
       " [3027.0, 4402],\n",
       " [3075.0, 4388],\n",
       " [3008.0, 4378],\n",
       " [3047.0, 4197],\n",
       " [3019.0, 4073],\n",
       " [3051.0, 3976],\n",
       " [3076.0, 3849],\n",
       " [3016.0, 3846],\n",
       " [3058.0, 3726],\n",
       " [3052.0, 3725],\n",
       " [3029.0, 3289],\n",
       " [3056.0, 2937],\n",
       " [3068.0, 0],\n",
       " [3024.0, 0],\n",
       " [3026.0, 0],\n",
       " [3066.0, 0],\n",
       " [3046.0, 0]]"
      ]
     },
     "execution_count": 21,
     "metadata": {},
     "output_type": "execute_result"
    }
   ],
   "source": [
    "\"\"\"\n",
    "This prints a list of stations who function as the highest start AND end trips\n",
    "\"\"\"\n",
    "\n",
    "new = []\n",
    "all_done = set()\n",
    "for i in pivoter2.index.values:\n",
    "    #Adds indexes to new which are part of pivoter2\n",
    "    if(i in pivoter.index.values):\n",
    "        all_done.add(i)\n",
    "        new.append([i, pivoter2.loc[i].values[0] + pivoter.loc[i].values[0]])\n",
    "    else:\n",
    "        new.append([i, 0])\n",
    "        \n",
    "for i in pivoter.index.values:\n",
    "    #if not already added to new and part of pivoter\n",
    "    if(i in pivoter2.index.values and i not in all_done):\n",
    "        all_done.add(i)\n",
    "        new.append([i, pivoter2.loc[i].values[0] + pivoter.loc[i].values[0]])\n",
    "        \n",
    "sorted(new, key = lambda x: x[1], reverse = True)"
   ]
  },
  {
   "cell_type": "code",
   "execution_count": 25,
   "metadata": {
    "scrolled": true
   },
   "outputs": [
    {
     "data": {
      "text/html": [
       "<div>\n",
       "<style scoped>\n",
       "    .dataframe tbody tr th:only-of-type {\n",
       "        vertical-align: middle;\n",
       "    }\n",
       "\n",
       "    .dataframe tbody tr th {\n",
       "        vertical-align: top;\n",
       "    }\n",
       "\n",
       "    .dataframe thead th {\n",
       "        text-align: right;\n",
       "    }\n",
       "</style>\n",
       "<table border=\"1\" class=\"dataframe\">\n",
       "  <thead>\n",
       "    <tr style=\"text-align: right;\">\n",
       "      <th></th>\n",
       "      <th></th>\n",
       "      <th>Walk-Up</th>\n",
       "      <th>Monthly</th>\n",
       "      <th>Annual(Flex)</th>\n",
       "    </tr>\n",
       "    <tr>\n",
       "      <th>date</th>\n",
       "      <th>date</th>\n",
       "      <th></th>\n",
       "      <th></th>\n",
       "      <th></th>\n",
       "    </tr>\n",
       "  </thead>\n",
       "  <tbody>\n",
       "    <tr>\n",
       "      <th rowspan=\"7\" valign=\"top\">2016</th>\n",
       "      <th>0</th>\n",
       "      <td>134.520000</td>\n",
       "      <td>345.720000</td>\n",
       "      <td>34.080000</td>\n",
       "    </tr>\n",
       "    <tr>\n",
       "      <th>1</th>\n",
       "      <td>124.320000</td>\n",
       "      <td>406.640000</td>\n",
       "      <td>38.600000</td>\n",
       "    </tr>\n",
       "    <tr>\n",
       "      <th>2</th>\n",
       "      <td>125.320000</td>\n",
       "      <td>407.640000</td>\n",
       "      <td>44.160000</td>\n",
       "    </tr>\n",
       "    <tr>\n",
       "      <th>3</th>\n",
       "      <td>142.423077</td>\n",
       "      <td>395.500000</td>\n",
       "      <td>45.576923</td>\n",
       "    </tr>\n",
       "    <tr>\n",
       "      <th>4</th>\n",
       "      <td>174.076923</td>\n",
       "      <td>368.461538</td>\n",
       "      <td>42.538462</td>\n",
       "    </tr>\n",
       "    <tr>\n",
       "      <th>5</th>\n",
       "      <td>245.769231</td>\n",
       "      <td>233.115385</td>\n",
       "      <td>39.384615</td>\n",
       "    </tr>\n",
       "    <tr>\n",
       "      <th>6</th>\n",
       "      <td>260.560000</td>\n",
       "      <td>214.920000</td>\n",
       "      <td>39.560000</td>\n",
       "    </tr>\n",
       "    <tr>\n",
       "      <th rowspan=\"7\" valign=\"top\">2017</th>\n",
       "      <th>0</th>\n",
       "      <td>78.692308</td>\n",
       "      <td>228.000000</td>\n",
       "      <td>24.692308</td>\n",
       "    </tr>\n",
       "    <tr>\n",
       "      <th>1</th>\n",
       "      <td>71.076923</td>\n",
       "      <td>271.538462</td>\n",
       "      <td>25.153846</td>\n",
       "    </tr>\n",
       "    <tr>\n",
       "      <th>2</th>\n",
       "      <td>88.846154</td>\n",
       "      <td>287.923077</td>\n",
       "      <td>27.692308</td>\n",
       "    </tr>\n",
       "    <tr>\n",
       "      <th>3</th>\n",
       "      <td>84.692308</td>\n",
       "      <td>275.538462</td>\n",
       "      <td>27.230769</td>\n",
       "    </tr>\n",
       "    <tr>\n",
       "      <th>4</th>\n",
       "      <td>99.153846</td>\n",
       "      <td>236.923077</td>\n",
       "      <td>26.461538</td>\n",
       "    </tr>\n",
       "    <tr>\n",
       "      <th>5</th>\n",
       "      <td>222.000000</td>\n",
       "      <td>165.166667</td>\n",
       "      <td>26.750000</td>\n",
       "    </tr>\n",
       "    <tr>\n",
       "      <th>6</th>\n",
       "      <td>179.307692</td>\n",
       "      <td>134.000000</td>\n",
       "      <td>20.384615</td>\n",
       "    </tr>\n",
       "  </tbody>\n",
       "</table>\n",
       "</div>"
      ],
      "text/plain": [
       "              Walk-Up     Monthly  Annual(Flex)\n",
       "date date                                      \n",
       "2016 0     134.520000  345.720000     34.080000\n",
       "     1     124.320000  406.640000     38.600000\n",
       "     2     125.320000  407.640000     44.160000\n",
       "     3     142.423077  395.500000     45.576923\n",
       "     4     174.076923  368.461538     42.538462\n",
       "     5     245.769231  233.115385     39.384615\n",
       "     6     260.560000  214.920000     39.560000\n",
       "2017 0      78.692308  228.000000     24.692308\n",
       "     1      71.076923  271.538462     25.153846\n",
       "     2      88.846154  287.923077     27.692308\n",
       "     3      84.692308  275.538462     27.230769\n",
       "     4      99.153846  236.923077     26.461538\n",
       "     5     222.000000  165.166667     26.750000\n",
       "     6     179.307692  134.000000     20.384615"
      ]
     },
     "execution_count": 25,
     "metadata": {},
     "output_type": "execute_result"
    }
   ],
   "source": [
    "#Group data by the year, days of the week, and count based on the PLan Duration\n",
    "\n",
    "weeks = nby_date.groupby([by_date.index.year, by_date.index.dayofweek]).mean()\n",
    "weeks\n",
    "#weeks.columns = ['None', 'Monthly', 'Annual']"
   ]
  },
  {
   "cell_type": "code",
   "execution_count": 60,
   "metadata": {
    "scrolled": true
   },
   "outputs": [
    {
     "data": {
      "text/plain": [
       "<matplotlib.axes._subplots.AxesSubplot at 0x7f1c9c731198>"
      ]
     },
     "execution_count": 60,
     "metadata": {},
     "output_type": "execute_result"
    },
    {
     "data": {
      "image/png": "[encoded data removed]",
      "text/plain": [
       "<Figure size 1152x864 with 2 Axes>"
      ]
     },
     "metadata": {
      "needs_background": "light"
     },
     "output_type": "display_data"
    }
   ],
   "source": [
    "#Plotting weekly usage of bikes per plan for 2016 and 2017\n",
    "\n",
    "fig, ax = plt.subplots(2, figsize = (16, 12))\n",
    "fig.subplots_adjust(hspace=0.4)\n",
    "for axs in ax:\n",
    "    axs.set(xlabel = 'Day of the Week')\n",
    "    axs.set_xticklabels(['Mon', 'Tues', 'Wed', 'Thurs', 'Fri', 'Sat', 'Sun'])\n",
    "weeks.loc[2016].plot(ax = ax[0], title = '2016 Weekly Usage per Plan')\n",
    "weeks.loc[2017].plot(ax = ax[1], title = '2017 Weekly Usage per Plan')"
   ]
  },
  {
   "cell_type": "code",
   "execution_count": 27,
   "metadata": {
    "scrolled": true
   },
   "outputs": [
    {
     "data": {
      "text/html": [
       "<div>\n",
       "<style scoped>\n",
       "    .dataframe tbody tr th:only-of-type {\n",
       "        vertical-align: middle;\n",
       "    }\n",
       "\n",
       "    .dataframe tbody tr th {\n",
       "        vertical-align: top;\n",
       "    }\n",
       "\n",
       "    .dataframe thead th {\n",
       "        text-align: right;\n",
       "    }\n",
       "</style>\n",
       "<table border=\"1\" class=\"dataframe\">\n",
       "  <thead>\n",
       "    <tr style=\"text-align: right;\">\n",
       "      <th>Plan Duration</th>\n",
       "      <th>hour</th>\n",
       "      <th>0.0</th>\n",
       "      <th>30.0</th>\n",
       "      <th>365.0</th>\n",
       "    </tr>\n",
       "    <tr>\n",
       "      <th>date</th>\n",
       "      <th></th>\n",
       "      <th></th>\n",
       "      <th></th>\n",
       "      <th></th>\n",
       "    </tr>\n",
       "  </thead>\n",
       "  <tbody>\n",
       "    <tr>\n",
       "      <th>2016-07-07</th>\n",
       "      <td>4</td>\n",
       "      <td>0.0</td>\n",
       "      <td>1.0</td>\n",
       "      <td>0.0</td>\n",
       "    </tr>\n",
       "    <tr>\n",
       "      <th>2016-07-07</th>\n",
       "      <td>6</td>\n",
       "      <td>0.0</td>\n",
       "      <td>1.0</td>\n",
       "      <td>0.0</td>\n",
       "    </tr>\n",
       "    <tr>\n",
       "      <th>2016-07-07</th>\n",
       "      <td>10</td>\n",
       "      <td>0.0</td>\n",
       "      <td>0.0</td>\n",
       "      <td>2.0</td>\n",
       "    </tr>\n",
       "    <tr>\n",
       "      <th>2016-07-07</th>\n",
       "      <td>12</td>\n",
       "      <td>1.0</td>\n",
       "      <td>2.0</td>\n",
       "      <td>1.0</td>\n",
       "    </tr>\n",
       "    <tr>\n",
       "      <th>2016-07-07</th>\n",
       "      <td>13</td>\n",
       "      <td>0.0</td>\n",
       "      <td>26.0</td>\n",
       "      <td>12.0</td>\n",
       "    </tr>\n",
       "    <tr>\n",
       "      <th>2016-07-07</th>\n",
       "      <td>14</td>\n",
       "      <td>0.0</td>\n",
       "      <td>13.0</td>\n",
       "      <td>6.0</td>\n",
       "    </tr>\n",
       "    <tr>\n",
       "      <th>2016-07-07</th>\n",
       "      <td>15</td>\n",
       "      <td>0.0</td>\n",
       "      <td>5.0</td>\n",
       "      <td>4.0</td>\n",
       "    </tr>\n",
       "    <tr>\n",
       "      <th>2016-07-07</th>\n",
       "      <td>16</td>\n",
       "      <td>0.0</td>\n",
       "      <td>8.0</td>\n",
       "      <td>8.0</td>\n",
       "    </tr>\n",
       "    <tr>\n",
       "      <th>2016-07-07</th>\n",
       "      <td>17</td>\n",
       "      <td>0.0</td>\n",
       "      <td>10.0</td>\n",
       "      <td>4.0</td>\n",
       "    </tr>\n",
       "    <tr>\n",
       "      <th>2016-07-07</th>\n",
       "      <td>18</td>\n",
       "      <td>0.0</td>\n",
       "      <td>14.0</td>\n",
       "      <td>6.0</td>\n",
       "    </tr>\n",
       "    <tr>\n",
       "      <th>2016-07-07</th>\n",
       "      <td>19</td>\n",
       "      <td>0.0</td>\n",
       "      <td>10.0</td>\n",
       "      <td>2.0</td>\n",
       "    </tr>\n",
       "    <tr>\n",
       "      <th>2016-07-07</th>\n",
       "      <td>20</td>\n",
       "      <td>0.0</td>\n",
       "      <td>13.0</td>\n",
       "      <td>7.0</td>\n",
       "    </tr>\n",
       "    <tr>\n",
       "      <th>2016-07-07</th>\n",
       "      <td>21</td>\n",
       "      <td>0.0</td>\n",
       "      <td>13.0</td>\n",
       "      <td>1.0</td>\n",
       "    </tr>\n",
       "    <tr>\n",
       "      <th>2016-07-07</th>\n",
       "      <td>22</td>\n",
       "      <td>0.0</td>\n",
       "      <td>8.0</td>\n",
       "      <td>4.0</td>\n",
       "    </tr>\n",
       "    <tr>\n",
       "      <th>2016-07-07</th>\n",
       "      <td>23</td>\n",
       "      <td>0.0</td>\n",
       "      <td>4.0</td>\n",
       "      <td>4.0</td>\n",
       "    </tr>\n",
       "    <tr>\n",
       "      <th>2016-07-08</th>\n",
       "      <td>0</td>\n",
       "      <td>0.0</td>\n",
       "      <td>4.0</td>\n",
       "      <td>1.0</td>\n",
       "    </tr>\n",
       "    <tr>\n",
       "      <th>2016-07-08</th>\n",
       "      <td>1</td>\n",
       "      <td>0.0</td>\n",
       "      <td>2.0</td>\n",
       "      <td>0.0</td>\n",
       "    </tr>\n",
       "    <tr>\n",
       "      <th>2016-07-08</th>\n",
       "      <td>2</td>\n",
       "      <td>0.0</td>\n",
       "      <td>1.0</td>\n",
       "      <td>0.0</td>\n",
       "    </tr>\n",
       "    <tr>\n",
       "      <th>2016-07-08</th>\n",
       "      <td>4</td>\n",
       "      <td>0.0</td>\n",
       "      <td>1.0</td>\n",
       "      <td>0.0</td>\n",
       "    </tr>\n",
       "    <tr>\n",
       "      <th>2016-07-08</th>\n",
       "      <td>6</td>\n",
       "      <td>0.0</td>\n",
       "      <td>1.0</td>\n",
       "      <td>0.0</td>\n",
       "    </tr>\n",
       "    <tr>\n",
       "      <th>2016-07-08</th>\n",
       "      <td>7</td>\n",
       "      <td>0.0</td>\n",
       "      <td>3.0</td>\n",
       "      <td>2.0</td>\n",
       "    </tr>\n",
       "    <tr>\n",
       "      <th>2016-07-08</th>\n",
       "      <td>8</td>\n",
       "      <td>0.0</td>\n",
       "      <td>13.0</td>\n",
       "      <td>1.0</td>\n",
       "    </tr>\n",
       "    <tr>\n",
       "      <th>2016-07-08</th>\n",
       "      <td>9</td>\n",
       "      <td>0.0</td>\n",
       "      <td>9.0</td>\n",
       "      <td>2.0</td>\n",
       "    </tr>\n",
       "    <tr>\n",
       "      <th>2016-07-08</th>\n",
       "      <td>10</td>\n",
       "      <td>0.0</td>\n",
       "      <td>6.0</td>\n",
       "      <td>3.0</td>\n",
       "    </tr>\n",
       "    <tr>\n",
       "      <th>2016-07-08</th>\n",
       "      <td>11</td>\n",
       "      <td>0.0</td>\n",
       "      <td>14.0</td>\n",
       "      <td>8.0</td>\n",
       "    </tr>\n",
       "    <tr>\n",
       "      <th>2016-07-08</th>\n",
       "      <td>12</td>\n",
       "      <td>1.0</td>\n",
       "      <td>21.0</td>\n",
       "      <td>8.0</td>\n",
       "    </tr>\n",
       "    <tr>\n",
       "      <th>2016-07-08</th>\n",
       "      <td>13</td>\n",
       "      <td>0.0</td>\n",
       "      <td>16.0</td>\n",
       "      <td>9.0</td>\n",
       "    </tr>\n",
       "    <tr>\n",
       "      <th>2016-07-08</th>\n",
       "      <td>14</td>\n",
       "      <td>0.0</td>\n",
       "      <td>23.0</td>\n",
       "      <td>2.0</td>\n",
       "    </tr>\n",
       "    <tr>\n",
       "      <th>2016-07-08</th>\n",
       "      <td>15</td>\n",
       "      <td>0.0</td>\n",
       "      <td>15.0</td>\n",
       "      <td>4.0</td>\n",
       "    </tr>\n",
       "    <tr>\n",
       "      <th>2016-07-08</th>\n",
       "      <td>16</td>\n",
       "      <td>0.0</td>\n",
       "      <td>7.0</td>\n",
       "      <td>8.0</td>\n",
       "    </tr>\n",
       "    <tr>\n",
       "      <th>...</th>\n",
       "      <td>...</td>\n",
       "      <td>...</td>\n",
       "      <td>...</td>\n",
       "      <td>...</td>\n",
       "    </tr>\n",
       "    <tr>\n",
       "      <th>2017-03-30</th>\n",
       "      <td>18</td>\n",
       "      <td>21.0</td>\n",
       "      <td>31.0</td>\n",
       "      <td>3.0</td>\n",
       "    </tr>\n",
       "    <tr>\n",
       "      <th>2017-03-30</th>\n",
       "      <td>19</td>\n",
       "      <td>4.0</td>\n",
       "      <td>16.0</td>\n",
       "      <td>6.0</td>\n",
       "    </tr>\n",
       "    <tr>\n",
       "      <th>2017-03-30</th>\n",
       "      <td>20</td>\n",
       "      <td>6.0</td>\n",
       "      <td>10.0</td>\n",
       "      <td>0.0</td>\n",
       "    </tr>\n",
       "    <tr>\n",
       "      <th>2017-03-30</th>\n",
       "      <td>21</td>\n",
       "      <td>9.0</td>\n",
       "      <td>10.0</td>\n",
       "      <td>2.0</td>\n",
       "    </tr>\n",
       "    <tr>\n",
       "      <th>2017-03-30</th>\n",
       "      <td>22</td>\n",
       "      <td>3.0</td>\n",
       "      <td>6.0</td>\n",
       "      <td>1.0</td>\n",
       "    </tr>\n",
       "    <tr>\n",
       "      <th>2017-03-30</th>\n",
       "      <td>23</td>\n",
       "      <td>1.0</td>\n",
       "      <td>2.0</td>\n",
       "      <td>0.0</td>\n",
       "    </tr>\n",
       "    <tr>\n",
       "      <th>2017-03-31</th>\n",
       "      <td>0</td>\n",
       "      <td>3.0</td>\n",
       "      <td>1.0</td>\n",
       "      <td>0.0</td>\n",
       "    </tr>\n",
       "    <tr>\n",
       "      <th>2017-03-31</th>\n",
       "      <td>1</td>\n",
       "      <td>0.0</td>\n",
       "      <td>2.0</td>\n",
       "      <td>0.0</td>\n",
       "    </tr>\n",
       "    <tr>\n",
       "      <th>2017-03-31</th>\n",
       "      <td>2</td>\n",
       "      <td>0.0</td>\n",
       "      <td>2.0</td>\n",
       "      <td>0.0</td>\n",
       "    </tr>\n",
       "    <tr>\n",
       "      <th>2017-03-31</th>\n",
       "      <td>3</td>\n",
       "      <td>0.0</td>\n",
       "      <td>1.0</td>\n",
       "      <td>0.0</td>\n",
       "    </tr>\n",
       "    <tr>\n",
       "      <th>2017-03-31</th>\n",
       "      <td>4</td>\n",
       "      <td>0.0</td>\n",
       "      <td>1.0</td>\n",
       "      <td>0.0</td>\n",
       "    </tr>\n",
       "    <tr>\n",
       "      <th>2017-03-31</th>\n",
       "      <td>5</td>\n",
       "      <td>0.0</td>\n",
       "      <td>2.0</td>\n",
       "      <td>0.0</td>\n",
       "    </tr>\n",
       "    <tr>\n",
       "      <th>2017-03-31</th>\n",
       "      <td>6</td>\n",
       "      <td>0.0</td>\n",
       "      <td>3.0</td>\n",
       "      <td>1.0</td>\n",
       "    </tr>\n",
       "    <tr>\n",
       "      <th>2017-03-31</th>\n",
       "      <td>7</td>\n",
       "      <td>7.0</td>\n",
       "      <td>16.0</td>\n",
       "      <td>2.0</td>\n",
       "    </tr>\n",
       "    <tr>\n",
       "      <th>2017-03-31</th>\n",
       "      <td>8</td>\n",
       "      <td>3.0</td>\n",
       "      <td>27.0</td>\n",
       "      <td>3.0</td>\n",
       "    </tr>\n",
       "    <tr>\n",
       "      <th>2017-03-31</th>\n",
       "      <td>9</td>\n",
       "      <td>1.0</td>\n",
       "      <td>17.0</td>\n",
       "      <td>2.0</td>\n",
       "    </tr>\n",
       "    <tr>\n",
       "      <th>2017-03-31</th>\n",
       "      <td>10</td>\n",
       "      <td>4.0</td>\n",
       "      <td>12.0</td>\n",
       "      <td>2.0</td>\n",
       "    </tr>\n",
       "    <tr>\n",
       "      <th>2017-03-31</th>\n",
       "      <td>11</td>\n",
       "      <td>9.0</td>\n",
       "      <td>19.0</td>\n",
       "      <td>4.0</td>\n",
       "    </tr>\n",
       "    <tr>\n",
       "      <th>2017-03-31</th>\n",
       "      <td>12</td>\n",
       "      <td>9.0</td>\n",
       "      <td>23.0</td>\n",
       "      <td>1.0</td>\n",
       "    </tr>\n",
       "    <tr>\n",
       "      <th>2017-03-31</th>\n",
       "      <td>13</td>\n",
       "      <td>17.0</td>\n",
       "      <td>25.0</td>\n",
       "      <td>2.0</td>\n",
       "    </tr>\n",
       "    <tr>\n",
       "      <th>2017-03-31</th>\n",
       "      <td>14</td>\n",
       "      <td>11.0</td>\n",
       "      <td>14.0</td>\n",
       "      <td>1.0</td>\n",
       "    </tr>\n",
       "    <tr>\n",
       "      <th>2017-03-31</th>\n",
       "      <td>15</td>\n",
       "      <td>19.0</td>\n",
       "      <td>14.0</td>\n",
       "      <td>3.0</td>\n",
       "    </tr>\n",
       "    <tr>\n",
       "      <th>2017-03-31</th>\n",
       "      <td>16</td>\n",
       "      <td>16.0</td>\n",
       "      <td>20.0</td>\n",
       "      <td>3.0</td>\n",
       "    </tr>\n",
       "    <tr>\n",
       "      <th>2017-03-31</th>\n",
       "      <td>17</td>\n",
       "      <td>10.0</td>\n",
       "      <td>28.0</td>\n",
       "      <td>5.0</td>\n",
       "    </tr>\n",
       "    <tr>\n",
       "      <th>2017-03-31</th>\n",
       "      <td>18</td>\n",
       "      <td>15.0</td>\n",
       "      <td>30.0</td>\n",
       "      <td>5.0</td>\n",
       "    </tr>\n",
       "    <tr>\n",
       "      <th>2017-03-31</th>\n",
       "      <td>19</td>\n",
       "      <td>6.0</td>\n",
       "      <td>17.0</td>\n",
       "      <td>1.0</td>\n",
       "    </tr>\n",
       "    <tr>\n",
       "      <th>2017-03-31</th>\n",
       "      <td>20</td>\n",
       "      <td>20.0</td>\n",
       "      <td>13.0</td>\n",
       "      <td>2.0</td>\n",
       "    </tr>\n",
       "    <tr>\n",
       "      <th>2017-03-31</th>\n",
       "      <td>21</td>\n",
       "      <td>11.0</td>\n",
       "      <td>6.0</td>\n",
       "      <td>1.0</td>\n",
       "    </tr>\n",
       "    <tr>\n",
       "      <th>2017-03-31</th>\n",
       "      <td>22</td>\n",
       "      <td>6.0</td>\n",
       "      <td>6.0</td>\n",
       "      <td>2.0</td>\n",
       "    </tr>\n",
       "    <tr>\n",
       "      <th>2017-03-31</th>\n",
       "      <td>23</td>\n",
       "      <td>13.0</td>\n",
       "      <td>2.0</td>\n",
       "      <td>0.0</td>\n",
       "    </tr>\n",
       "  </tbody>\n",
       "</table>\n",
       "<p>6112 rows × 4 columns</p>\n",
       "</div>"
      ],
      "text/plain": [
       "Plan Duration  hour   0.0  30.0  365.0\n",
       "date                                  \n",
       "2016-07-07        4   0.0   1.0    0.0\n",
       "2016-07-07        6   0.0   1.0    0.0\n",
       "2016-07-07       10   0.0   0.0    2.0\n",
       "2016-07-07       12   1.0   2.0    1.0\n",
       "2016-07-07       13   0.0  26.0   12.0\n",
       "2016-07-07       14   0.0  13.0    6.0\n",
       "2016-07-07       15   0.0   5.0    4.0\n",
       "2016-07-07       16   0.0   8.0    8.0\n",
       "2016-07-07       17   0.0  10.0    4.0\n",
       "2016-07-07       18   0.0  14.0    6.0\n",
       "2016-07-07       19   0.0  10.0    2.0\n",
       "2016-07-07       20   0.0  13.0    7.0\n",
       "2016-07-07       21   0.0  13.0    1.0\n",
       "2016-07-07       22   0.0   8.0    4.0\n",
       "2016-07-07       23   0.0   4.0    4.0\n",
       "2016-07-08        0   0.0   4.0    1.0\n",
       "2016-07-08        1   0.0   2.0    0.0\n",
       "2016-07-08        2   0.0   1.0    0.0\n",
       "2016-07-08        4   0.0   1.0    0.0\n",
       "2016-07-08        6   0.0   1.0    0.0\n",
       "2016-07-08        7   0.0   3.0    2.0\n",
       "2016-07-08        8   0.0  13.0    1.0\n",
       "2016-07-08        9   0.0   9.0    2.0\n",
       "2016-07-08       10   0.0   6.0    3.0\n",
       "2016-07-08       11   0.0  14.0    8.0\n",
       "2016-07-08       12   1.0  21.0    8.0\n",
       "2016-07-08       13   0.0  16.0    9.0\n",
       "2016-07-08       14   0.0  23.0    2.0\n",
       "2016-07-08       15   0.0  15.0    4.0\n",
       "2016-07-08       16   0.0   7.0    8.0\n",
       "...             ...   ...   ...    ...\n",
       "2017-03-30       18  21.0  31.0    3.0\n",
       "2017-03-30       19   4.0  16.0    6.0\n",
       "2017-03-30       20   6.0  10.0    0.0\n",
       "2017-03-30       21   9.0  10.0    2.0\n",
       "2017-03-30       22   3.0   6.0    1.0\n",
       "2017-03-30       23   1.0   2.0    0.0\n",
       "2017-03-31        0   3.0   1.0    0.0\n",
       "2017-03-31        1   0.0   2.0    0.0\n",
       "2017-03-31        2   0.0   2.0    0.0\n",
       "2017-03-31        3   0.0   1.0    0.0\n",
       "2017-03-31        4   0.0   1.0    0.0\n",
       "2017-03-31        5   0.0   2.0    0.0\n",
       "2017-03-31        6   0.0   3.0    1.0\n",
       "2017-03-31        7   7.0  16.0    2.0\n",
       "2017-03-31        8   3.0  27.0    3.0\n",
       "2017-03-31        9   1.0  17.0    2.0\n",
       "2017-03-31       10   4.0  12.0    2.0\n",
       "2017-03-31       11   9.0  19.0    4.0\n",
       "2017-03-31       12   9.0  23.0    1.0\n",
       "2017-03-31       13  17.0  25.0    2.0\n",
       "2017-03-31       14  11.0  14.0    1.0\n",
       "2017-03-31       15  19.0  14.0    3.0\n",
       "2017-03-31       16  16.0  20.0    3.0\n",
       "2017-03-31       17  10.0  28.0    5.0\n",
       "2017-03-31       18  15.0  30.0    5.0\n",
       "2017-03-31       19   6.0  17.0    1.0\n",
       "2017-03-31       20  20.0  13.0    2.0\n",
       "2017-03-31       21  11.0   6.0    1.0\n",
       "2017-03-31       22   6.0   6.0    2.0\n",
       "2017-03-31       23  13.0   2.0    0.0\n",
       "\n",
       "[6112 rows x 4 columns]"
      ]
     },
     "execution_count": 27,
     "metadata": {},
     "output_type": "execute_result"
    }
   ],
   "source": [
    "#Group data by date, where the columns are the hour in the day, and pLan duration\n",
    "\n",
    "hourly_stats = data.pivot_table(index = ['date', 'hour'], values = 'Trip ID', aggfunc = 'count', columns = 'Plan Duration').fillna(0).reset_index('hour')\n",
    "hourly_stats"
   ]
  },
  {
   "cell_type": "code",
   "execution_count": 28,
   "metadata": {
    "scrolled": true
   },
   "outputs": [
    {
     "data": {
      "text/html": [
       "<div>\n",
       "<style scoped>\n",
       "    .dataframe tbody tr th:only-of-type {\n",
       "        vertical-align: middle;\n",
       "    }\n",
       "\n",
       "    .dataframe tbody tr th {\n",
       "        vertical-align: top;\n",
       "    }\n",
       "\n",
       "    .dataframe thead th {\n",
       "        text-align: right;\n",
       "    }\n",
       "</style>\n",
       "<table border=\"1\" class=\"dataframe\">\n",
       "  <thead>\n",
       "    <tr style=\"text-align: right;\">\n",
       "      <th></th>\n",
       "      <th>Plan Duration</th>\n",
       "      <th>0.0</th>\n",
       "      <th>30.0</th>\n",
       "      <th>365.0</th>\n",
       "    </tr>\n",
       "    <tr>\n",
       "      <th>weekend</th>\n",
       "      <th>hour</th>\n",
       "      <th></th>\n",
       "      <th></th>\n",
       "      <th></th>\n",
       "    </tr>\n",
       "  </thead>\n",
       "  <tbody>\n",
       "    <tr>\n",
       "      <th rowspan=\"24\" valign=\"top\">False</th>\n",
       "      <th>0</th>\n",
       "      <td>2.382857</td>\n",
       "      <td>2.457143</td>\n",
       "      <td>0.342857</td>\n",
       "    </tr>\n",
       "    <tr>\n",
       "      <th>1</th>\n",
       "      <td>1.595238</td>\n",
       "      <td>1.910714</td>\n",
       "      <td>0.196429</td>\n",
       "    </tr>\n",
       "    <tr>\n",
       "      <th>2</th>\n",
       "      <td>1.050314</td>\n",
       "      <td>1.905660</td>\n",
       "      <td>0.088050</td>\n",
       "    </tr>\n",
       "    <tr>\n",
       "      <th>3</th>\n",
       "      <td>0.427481</td>\n",
       "      <td>1.396947</td>\n",
       "      <td>0.045802</td>\n",
       "    </tr>\n",
       "    <tr>\n",
       "      <th>4</th>\n",
       "      <td>0.238994</td>\n",
       "      <td>1.698113</td>\n",
       "      <td>0.037736</td>\n",
       "    </tr>\n",
       "    <tr>\n",
       "      <th>5</th>\n",
       "      <td>0.380117</td>\n",
       "      <td>2.292398</td>\n",
       "      <td>0.070175</td>\n",
       "    </tr>\n",
       "    <tr>\n",
       "      <th>6</th>\n",
       "      <td>0.946524</td>\n",
       "      <td>7.053476</td>\n",
       "      <td>0.358289</td>\n",
       "    </tr>\n",
       "    <tr>\n",
       "      <th>7</th>\n",
       "      <td>1.842932</td>\n",
       "      <td>19.853403</td>\n",
       "      <td>0.869110</td>\n",
       "    </tr>\n",
       "    <tr>\n",
       "      <th>8</th>\n",
       "      <td>3.041885</td>\n",
       "      <td>26.732984</td>\n",
       "      <td>2.172775</td>\n",
       "    </tr>\n",
       "    <tr>\n",
       "      <th>9</th>\n",
       "      <td>3.700000</td>\n",
       "      <td>18.989474</td>\n",
       "      <td>2.378947</td>\n",
       "    </tr>\n",
       "    <tr>\n",
       "      <th>10</th>\n",
       "      <td>4.486911</td>\n",
       "      <td>12.130890</td>\n",
       "      <td>1.486911</td>\n",
       "    </tr>\n",
       "    <tr>\n",
       "      <th>11</th>\n",
       "      <td>6.821990</td>\n",
       "      <td>17.455497</td>\n",
       "      <td>2.497382</td>\n",
       "    </tr>\n",
       "    <tr>\n",
       "      <th>12</th>\n",
       "      <td>10.291667</td>\n",
       "      <td>24.276042</td>\n",
       "      <td>2.557292</td>\n",
       "    </tr>\n",
       "    <tr>\n",
       "      <th>13</th>\n",
       "      <td>9.781250</td>\n",
       "      <td>21.989583</td>\n",
       "      <td>2.833333</td>\n",
       "    </tr>\n",
       "    <tr>\n",
       "      <th>14</th>\n",
       "      <td>9.161458</td>\n",
       "      <td>17.328125</td>\n",
       "      <td>2.083333</td>\n",
       "    </tr>\n",
       "    <tr>\n",
       "      <th>15</th>\n",
       "      <td>8.723958</td>\n",
       "      <td>17.161458</td>\n",
       "      <td>1.864583</td>\n",
       "    </tr>\n",
       "    <tr>\n",
       "      <th>16</th>\n",
       "      <td>8.135417</td>\n",
       "      <td>26.197917</td>\n",
       "      <td>2.052083</td>\n",
       "    </tr>\n",
       "    <tr>\n",
       "      <th>17</th>\n",
       "      <td>9.630208</td>\n",
       "      <td>34.838542</td>\n",
       "      <td>3.203125</td>\n",
       "    </tr>\n",
       "    <tr>\n",
       "      <th>18</th>\n",
       "      <td>8.416667</td>\n",
       "      <td>30.984375</td>\n",
       "      <td>3.453125</td>\n",
       "    </tr>\n",
       "    <tr>\n",
       "      <th>19</th>\n",
       "      <td>7.826316</td>\n",
       "      <td>21.510526</td>\n",
       "      <td>2.584211</td>\n",
       "    </tr>\n",
       "    <tr>\n",
       "      <th>20</th>\n",
       "      <td>6.706806</td>\n",
       "      <td>14.900524</td>\n",
       "      <td>2.036649</td>\n",
       "    </tr>\n",
       "    <tr>\n",
       "      <th>21</th>\n",
       "      <td>6.962766</td>\n",
       "      <td>10.351064</td>\n",
       "      <td>1.515957</td>\n",
       "    </tr>\n",
       "    <tr>\n",
       "      <th>22</th>\n",
       "      <td>5.984211</td>\n",
       "      <td>6.900000</td>\n",
       "      <td>1.052632</td>\n",
       "    </tr>\n",
       "    <tr>\n",
       "      <th>23</th>\n",
       "      <td>4.296296</td>\n",
       "      <td>5.417989</td>\n",
       "      <td>0.507937</td>\n",
       "    </tr>\n",
       "    <tr>\n",
       "      <th rowspan=\"24\" valign=\"top\">True</th>\n",
       "      <th>0</th>\n",
       "      <td>7.157895</td>\n",
       "      <td>3.723684</td>\n",
       "      <td>0.578947</td>\n",
       "    </tr>\n",
       "    <tr>\n",
       "      <th>1</th>\n",
       "      <td>5.840000</td>\n",
       "      <td>3.266667</td>\n",
       "      <td>0.520000</td>\n",
       "    </tr>\n",
       "    <tr>\n",
       "      <th>2</th>\n",
       "      <td>3.623188</td>\n",
       "      <td>1.724638</td>\n",
       "      <td>0.246377</td>\n",
       "    </tr>\n",
       "    <tr>\n",
       "      <th>3</th>\n",
       "      <td>0.970149</td>\n",
       "      <td>1.925373</td>\n",
       "      <td>0.104478</td>\n",
       "    </tr>\n",
       "    <tr>\n",
       "      <th>4</th>\n",
       "      <td>0.820000</td>\n",
       "      <td>1.240000</td>\n",
       "      <td>0.040000</td>\n",
       "    </tr>\n",
       "    <tr>\n",
       "      <th>5</th>\n",
       "      <td>1.128205</td>\n",
       "      <td>1.128205</td>\n",
       "      <td>0.128205</td>\n",
       "    </tr>\n",
       "    <tr>\n",
       "      <th>6</th>\n",
       "      <td>1.210526</td>\n",
       "      <td>1.649123</td>\n",
       "      <td>0.228070</td>\n",
       "    </tr>\n",
       "    <tr>\n",
       "      <th>7</th>\n",
       "      <td>1.859155</td>\n",
       "      <td>3.253521</td>\n",
       "      <td>0.507042</td>\n",
       "    </tr>\n",
       "    <tr>\n",
       "      <th>8</th>\n",
       "      <td>3.853333</td>\n",
       "      <td>5.053333</td>\n",
       "      <td>0.906667</td>\n",
       "    </tr>\n",
       "    <tr>\n",
       "      <th>9</th>\n",
       "      <td>9.052632</td>\n",
       "      <td>8.552632</td>\n",
       "      <td>1.907895</td>\n",
       "    </tr>\n",
       "    <tr>\n",
       "      <th>10</th>\n",
       "      <td>11.342105</td>\n",
       "      <td>11.578947</td>\n",
       "      <td>2.381579</td>\n",
       "    </tr>\n",
       "    <tr>\n",
       "      <th>11</th>\n",
       "      <td>16.223684</td>\n",
       "      <td>13.342105</td>\n",
       "      <td>3.026316</td>\n",
       "    </tr>\n",
       "    <tr>\n",
       "      <th>12</th>\n",
       "      <td>19.315789</td>\n",
       "      <td>15.144737</td>\n",
       "      <td>3.026316</td>\n",
       "    </tr>\n",
       "    <tr>\n",
       "      <th>13</th>\n",
       "      <td>21.592105</td>\n",
       "      <td>15.934211</td>\n",
       "      <td>2.802632</td>\n",
       "    </tr>\n",
       "    <tr>\n",
       "      <th>14</th>\n",
       "      <td>20.500000</td>\n",
       "      <td>15.184211</td>\n",
       "      <td>3.026316</td>\n",
       "    </tr>\n",
       "    <tr>\n",
       "      <th>15</th>\n",
       "      <td>20.533333</td>\n",
       "      <td>15.986667</td>\n",
       "      <td>3.013333</td>\n",
       "    </tr>\n",
       "    <tr>\n",
       "      <th>16</th>\n",
       "      <td>20.552632</td>\n",
       "      <td>15.894737</td>\n",
       "      <td>2.328947</td>\n",
       "    </tr>\n",
       "    <tr>\n",
       "      <th>17</th>\n",
       "      <td>16.078947</td>\n",
       "      <td>14.947368</td>\n",
       "      <td>2.118421</td>\n",
       "    </tr>\n",
       "    <tr>\n",
       "      <th>18</th>\n",
       "      <td>13.407895</td>\n",
       "      <td>13.263158</td>\n",
       "      <td>1.921053</td>\n",
       "    </tr>\n",
       "    <tr>\n",
       "      <th>19</th>\n",
       "      <td>10.960526</td>\n",
       "      <td>11.605263</td>\n",
       "      <td>1.776316</td>\n",
       "    </tr>\n",
       "    <tr>\n",
       "      <th>20</th>\n",
       "      <td>7.973333</td>\n",
       "      <td>9.880000</td>\n",
       "      <td>1.506667</td>\n",
       "    </tr>\n",
       "    <tr>\n",
       "      <th>21</th>\n",
       "      <td>9.131579</td>\n",
       "      <td>7.144737</td>\n",
       "      <td>1.092105</td>\n",
       "    </tr>\n",
       "    <tr>\n",
       "      <th>22</th>\n",
       "      <td>8.671053</td>\n",
       "      <td>5.828947</td>\n",
       "      <td>0.881579</td>\n",
       "    </tr>\n",
       "    <tr>\n",
       "      <th>23</th>\n",
       "      <td>6.000000</td>\n",
       "      <td>4.693333</td>\n",
       "      <td>0.413333</td>\n",
       "    </tr>\n",
       "  </tbody>\n",
       "</table>\n",
       "</div>"
      ],
      "text/plain": [
       "Plan Duration      0.0        30.0      365.0\n",
       "weekend hour                                 \n",
       "False   0       2.382857   2.457143  0.342857\n",
       "        1       1.595238   1.910714  0.196429\n",
       "        2       1.050314   1.905660  0.088050\n",
       "        3       0.427481   1.396947  0.045802\n",
       "        4       0.238994   1.698113  0.037736\n",
       "        5       0.380117   2.292398  0.070175\n",
       "        6       0.946524   7.053476  0.358289\n",
       "        7       1.842932  19.853403  0.869110\n",
       "        8       3.041885  26.732984  2.172775\n",
       "        9       3.700000  18.989474  2.378947\n",
       "        10      4.486911  12.130890  1.486911\n",
       "        11      6.821990  17.455497  2.497382\n",
       "        12     10.291667  24.276042  2.557292\n",
       "        13      9.781250  21.989583  2.833333\n",
       "        14      9.161458  17.328125  2.083333\n",
       "        15      8.723958  17.161458  1.864583\n",
       "        16      8.135417  26.197917  2.052083\n",
       "        17      9.630208  34.838542  3.203125\n",
       "        18      8.416667  30.984375  3.453125\n",
       "        19      7.826316  21.510526  2.584211\n",
       "        20      6.706806  14.900524  2.036649\n",
       "        21      6.962766  10.351064  1.515957\n",
       "        22      5.984211   6.900000  1.052632\n",
       "        23      4.296296   5.417989  0.507937\n",
       "True    0       7.157895   3.723684  0.578947\n",
       "        1       5.840000   3.266667  0.520000\n",
       "        2       3.623188   1.724638  0.246377\n",
       "        3       0.970149   1.925373  0.104478\n",
       "        4       0.820000   1.240000  0.040000\n",
       "        5       1.128205   1.128205  0.128205\n",
       "        6       1.210526   1.649123  0.228070\n",
       "        7       1.859155   3.253521  0.507042\n",
       "        8       3.853333   5.053333  0.906667\n",
       "        9       9.052632   8.552632  1.907895\n",
       "        10     11.342105  11.578947  2.381579\n",
       "        11     16.223684  13.342105  3.026316\n",
       "        12     19.315789  15.144737  3.026316\n",
       "        13     21.592105  15.934211  2.802632\n",
       "        14     20.500000  15.184211  3.026316\n",
       "        15     20.533333  15.986667  3.013333\n",
       "        16     20.552632  15.894737  2.328947\n",
       "        17     16.078947  14.947368  2.118421\n",
       "        18     13.407895  13.263158  1.921053\n",
       "        19     10.960526  11.605263  1.776316\n",
       "        20      7.973333   9.880000  1.506667\n",
       "        21      9.131579   7.144737  1.092105\n",
       "        22      8.671053   5.828947  0.881579\n",
       "        23      6.000000   4.693333  0.413333"
      ]
     },
     "execution_count": 28,
     "metadata": {},
     "output_type": "execute_result"
    }
   ],
   "source": [
    "#I want to split the data into whether weekdays, and weekdays, and then get the counts per hour for each plan\n",
    "\n",
    "hourly_stats['weekend'] = (hourly_stats.index.get_level_values('date').dayofweek >= 5)\n",
    "weekend_split = hourly_stats.groupby(['weekend', 'hour']).mean()\n",
    "weekend_split"
   ]
  },
  {
   "cell_type": "code",
   "execution_count": 29,
   "metadata": {
    "scrolled": true
   },
   "outputs": [
    {
     "data": {
      "text/plain": [
       "<matplotlib.legend.Legend at 0x7f1ca130e550>"
      ]
     },
     "execution_count": 29,
     "metadata": {},
     "output_type": "execute_result"
    },
    {
     "data": {
      "image/png": "[encoded data removed]",
      "text/plain": [
       "<Figure size 648x360 with 1 Axes>"
      ]
     },
     "metadata": {
      "needs_background": "light"
     },
     "output_type": "display_data"
    }
   ],
   "source": [
    "fig, ax = plt.subplots(1, figsize = (9, 5))\n",
    "fig.subplots_adjust(wspace=0.4)\n",
    "ax.set_ylabel('Mean Number of Riders')\n",
    "#ax[1].set_ylabel('Mean Number of Riders')\n",
    "\n",
    "weekend_split.loc[False].plot(ax=ax, title='Weekday Usage per Hour')\n",
    "#weekend_split.loc[True].plot(ax=ax[1], title='Weekend Usage per Hour')\n",
    "\n",
    "ax.legend(['Walkup', 'Monthly', 'Annual'])\n",
    "#ax[1].legend(['Walkup', 'Monthly', 'Annual'])"
   ]
  },
  {
   "cell_type": "code",
   "execution_count": 30,
   "metadata": {},
   "outputs": [],
   "source": [
    "data['weekend'] = data['day'] >= 5"
   ]
  },
  {
   "cell_type": "code",
   "execution_count": 31,
   "metadata": {},
   "outputs": [
    {
     "data": {
      "text/plain": [
       "<matplotlib.axes._subplots.AxesSubplot at 0x7f1ca1347940>"
      ]
     },
     "execution_count": 31,
     "metadata": {},
     "output_type": "execute_result"
    },
    {
     "data": {
      "image/png": "[encoded data removed]",
      "text/plain": [
       "<Figure size 432x288 with 1 Axes>"
      ]
     },
     "metadata": {
      "needs_background": "light"
     },
     "output_type": "display_data"
    }
   ],
   "source": [
    "#Plot of the distribution of trip frequency over hours of the day for different trip routes\n",
    "\n",
    "data.pivot_table(index = 'Trip Route Category', columns = ['weekend', 'hour'], values = 'Trip ID', aggfunc = 'count')[True].T.plot()"
   ]
  },
  {
   "cell_type": "code",
   "execution_count": 32,
   "metadata": {
    "scrolled": true
   },
   "outputs": [
    {
     "data": {
      "text/html": [
       "<div>\n",
       "<style scoped>\n",
       "    .dataframe tbody tr th:only-of-type {\n",
       "        vertical-align: middle;\n",
       "    }\n",
       "\n",
       "    .dataframe tbody tr th {\n",
       "        vertical-align: top;\n",
       "    }\n",
       "\n",
       "    .dataframe thead th {\n",
       "        text-align: right;\n",
       "    }\n",
       "</style>\n",
       "<table border=\"1\" class=\"dataframe\">\n",
       "  <thead>\n",
       "    <tr style=\"text-align: right;\">\n",
       "      <th></th>\n",
       "      <th>Trip ID</th>\n",
       "      <th>Duration</th>\n",
       "      <th>Start Time</th>\n",
       "      <th>End Time</th>\n",
       "      <th>Starting Station ID</th>\n",
       "      <th>Starting Station Latitude</th>\n",
       "      <th>Starting Station Longitude</th>\n",
       "      <th>Ending Station ID</th>\n",
       "      <th>Ending Station Latitude</th>\n",
       "      <th>Ending Station Longitude</th>\n",
       "      <th>...</th>\n",
       "      <th>Passholder Type</th>\n",
       "      <th>Starting Lat-Long</th>\n",
       "      <th>Ending Lat-Long</th>\n",
       "      <th>date</th>\n",
       "      <th>hour</th>\n",
       "      <th>day</th>\n",
       "      <th>month</th>\n",
       "      <th>season</th>\n",
       "      <th>weekend</th>\n",
       "      <th>minutes</th>\n",
       "    </tr>\n",
       "  </thead>\n",
       "  <tbody>\n",
       "    <tr>\n",
       "      <th>0</th>\n",
       "      <td>1912818</td>\n",
       "      <td>180</td>\n",
       "      <td>2016-07-07 04:17:00</td>\n",
       "      <td>2016-07-07 04:20:00</td>\n",
       "      <td>3014.0</td>\n",
       "      <td>34.056610</td>\n",
       "      <td>-118.23721</td>\n",
       "      <td>3014.0</td>\n",
       "      <td>34.056610</td>\n",
       "      <td>-118.23721</td>\n",
       "      <td>...</td>\n",
       "      <td>Monthly Pass</td>\n",
       "      <td>{'longitude': '-118.23721', 'latitude': '34.05...</td>\n",
       "      <td>{'longitude': '-118.23721', 'latitude': '34.05...</td>\n",
       "      <td>2016-07-07</td>\n",
       "      <td>4</td>\n",
       "      <td>3</td>\n",
       "      <td>7</td>\n",
       "      <td>summer</td>\n",
       "      <td>False</td>\n",
       "      <td>3.0</td>\n",
       "    </tr>\n",
       "    <tr>\n",
       "      <th>1</th>\n",
       "      <td>1919661</td>\n",
       "      <td>1980</td>\n",
       "      <td>2016-07-07 06:00:00</td>\n",
       "      <td>2016-07-07 06:33:00</td>\n",
       "      <td>3014.0</td>\n",
       "      <td>34.056610</td>\n",
       "      <td>-118.23721</td>\n",
       "      <td>3014.0</td>\n",
       "      <td>34.056610</td>\n",
       "      <td>-118.23721</td>\n",
       "      <td>...</td>\n",
       "      <td>Monthly Pass</td>\n",
       "      <td>{'longitude': '-118.23721', 'latitude': '34.05...</td>\n",
       "      <td>{'longitude': '-118.23721', 'latitude': '34.05...</td>\n",
       "      <td>2016-07-07</td>\n",
       "      <td>6</td>\n",
       "      <td>3</td>\n",
       "      <td>7</td>\n",
       "      <td>summer</td>\n",
       "      <td>False</td>\n",
       "      <td>33.0</td>\n",
       "    </tr>\n",
       "    <tr>\n",
       "      <th>2</th>\n",
       "      <td>1933383</td>\n",
       "      <td>300</td>\n",
       "      <td>2016-07-07 10:32:00</td>\n",
       "      <td>2016-07-07 10:37:00</td>\n",
       "      <td>3016.0</td>\n",
       "      <td>34.052898</td>\n",
       "      <td>-118.24156</td>\n",
       "      <td>3016.0</td>\n",
       "      <td>34.052898</td>\n",
       "      <td>-118.24156</td>\n",
       "      <td>...</td>\n",
       "      <td>Flex Pass</td>\n",
       "      <td>{'longitude': '-118.24156', 'latitude': '34.05...</td>\n",
       "      <td>{'longitude': '-118.24156', 'latitude': '34.05...</td>\n",
       "      <td>2016-07-07</td>\n",
       "      <td>10</td>\n",
       "      <td>3</td>\n",
       "      <td>7</td>\n",
       "      <td>summer</td>\n",
       "      <td>False</td>\n",
       "      <td>5.0</td>\n",
       "    </tr>\n",
       "    <tr>\n",
       "      <th>3</th>\n",
       "      <td>1944197</td>\n",
       "      <td>10860</td>\n",
       "      <td>2016-07-07 10:37:00</td>\n",
       "      <td>2016-07-07 13:38:00</td>\n",
       "      <td>3016.0</td>\n",
       "      <td>34.052898</td>\n",
       "      <td>-118.24156</td>\n",
       "      <td>3016.0</td>\n",
       "      <td>34.052898</td>\n",
       "      <td>-118.24156</td>\n",
       "      <td>...</td>\n",
       "      <td>Flex Pass</td>\n",
       "      <td>{'longitude': '-118.24156', 'latitude': '34.05...</td>\n",
       "      <td>{'longitude': '-118.24156', 'latitude': '34.05...</td>\n",
       "      <td>2016-07-07</td>\n",
       "      <td>10</td>\n",
       "      <td>3</td>\n",
       "      <td>7</td>\n",
       "      <td>summer</td>\n",
       "      <td>False</td>\n",
       "      <td>181.0</td>\n",
       "    </tr>\n",
       "    <tr>\n",
       "      <th>4</th>\n",
       "      <td>1940317</td>\n",
       "      <td>420</td>\n",
       "      <td>2016-07-07 12:51:00</td>\n",
       "      <td>2016-07-07 12:58:00</td>\n",
       "      <td>3032.0</td>\n",
       "      <td>34.049889</td>\n",
       "      <td>-118.25588</td>\n",
       "      <td>3032.0</td>\n",
       "      <td>34.049889</td>\n",
       "      <td>-118.25588</td>\n",
       "      <td>...</td>\n",
       "      <td>Walk-up</td>\n",
       "      <td>{'longitude': '-118.25588', 'latitude': '34.04...</td>\n",
       "      <td>{'longitude': '-118.25588', 'latitude': '34.04...</td>\n",
       "      <td>2016-07-07</td>\n",
       "      <td>12</td>\n",
       "      <td>3</td>\n",
       "      <td>7</td>\n",
       "      <td>summer</td>\n",
       "      <td>False</td>\n",
       "      <td>7.0</td>\n",
       "    </tr>\n",
       "  </tbody>\n",
       "</table>\n",
       "<p>5 rows × 23 columns</p>\n",
       "</div>"
      ],
      "text/plain": [
       "   Trip ID  Duration          Start Time            End Time  \\\n",
       "0  1912818       180 2016-07-07 04:17:00 2016-07-07 04:20:00   \n",
       "1  1919661      1980 2016-07-07 06:00:00 2016-07-07 06:33:00   \n",
       "2  1933383       300 2016-07-07 10:32:00 2016-07-07 10:37:00   \n",
       "3  1944197     10860 2016-07-07 10:37:00 2016-07-07 13:38:00   \n",
       "4  1940317       420 2016-07-07 12:51:00 2016-07-07 12:58:00   \n",
       "\n",
       "   Starting Station ID  Starting Station Latitude  Starting Station Longitude  \\\n",
       "0               3014.0                  34.056610                  -118.23721   \n",
       "1               3014.0                  34.056610                  -118.23721   \n",
       "2               3016.0                  34.052898                  -118.24156   \n",
       "3               3016.0                  34.052898                  -118.24156   \n",
       "4               3032.0                  34.049889                  -118.25588   \n",
       "\n",
       "   Ending Station ID  Ending Station Latitude  Ending Station Longitude  \\\n",
       "0             3014.0                34.056610                -118.23721   \n",
       "1             3014.0                34.056610                -118.23721   \n",
       "2             3016.0                34.052898                -118.24156   \n",
       "3             3016.0                34.052898                -118.24156   \n",
       "4             3032.0                34.049889                -118.25588   \n",
       "\n",
       "    ...     Passholder Type  \\\n",
       "0   ...        Monthly Pass   \n",
       "1   ...        Monthly Pass   \n",
       "2   ...           Flex Pass   \n",
       "3   ...           Flex Pass   \n",
       "4   ...             Walk-up   \n",
       "\n",
       "                                   Starting Lat-Long  \\\n",
       "0  {'longitude': '-118.23721', 'latitude': '34.05...   \n",
       "1  {'longitude': '-118.23721', 'latitude': '34.05...   \n",
       "2  {'longitude': '-118.24156', 'latitude': '34.05...   \n",
       "3  {'longitude': '-118.24156', 'latitude': '34.05...   \n",
       "4  {'longitude': '-118.25588', 'latitude': '34.04...   \n",
       "\n",
       "                                     Ending Lat-Long       date hour day  \\\n",
       "0  {'longitude': '-118.23721', 'latitude': '34.05... 2016-07-07    4   3   \n",
       "1  {'longitude': '-118.23721', 'latitude': '34.05... 2016-07-07    6   3   \n",
       "2  {'longitude': '-118.24156', 'latitude': '34.05... 2016-07-07   10   3   \n",
       "3  {'longitude': '-118.24156', 'latitude': '34.05... 2016-07-07   10   3   \n",
       "4  {'longitude': '-118.25588', 'latitude': '34.04... 2016-07-07   12   3   \n",
       "\n",
       "  month  season  weekend  minutes  \n",
       "0     7  summer    False      3.0  \n",
       "1     7  summer    False     33.0  \n",
       "2     7  summer    False      5.0  \n",
       "3     7  summer    False    181.0  \n",
       "4     7  summer    False      7.0  \n",
       "\n",
       "[5 rows x 23 columns]"
      ]
     },
     "execution_count": 32,
     "metadata": {},
     "output_type": "execute_result"
    }
   ],
   "source": [
    "#Adding a minutes column to the main dataframe\n",
    "\n",
    "data['minutes'] = data['Duration']/60\n",
    "data.head()"
   ]
  },
  {
   "cell_type": "code",
   "execution_count": 33,
   "metadata": {},
   "outputs": [
    {
     "name": "stderr",
     "output_type": "stream",
     "text": [
      "/home/sachk/.local/lib/python3.6/site-packages/matplotlib/axes/_axes.py:6510: MatplotlibDeprecationWarning: \n",
      "The 'normed' kwarg was deprecated in Matplotlib 2.1 and will be removed in 3.1. Use 'density' instead.\n",
      "  alternative=\"'density'\", removal=\"3.1\")\n"
     ]
    },
    {
     "data": {
      "text/plain": [
       "Text(0.5, 1.0, 'Distribution of Ride Times for varying Plan Durations')"
      ]
     },
     "execution_count": 33,
     "metadata": {},
     "output_type": "execute_result"
    },
    {
     "data": {
      "image/png": "[encoded data removed]",
      "text/plain": [
       "<Figure size 432x288 with 1 Axes>"
      ]
     },
     "metadata": {
      "needs_background": "light"
     },
     "output_type": "display_data"
    }
   ],
   "source": [
    "\"\"\"\n",
    "I am first grouping data by the Plan Duration (0, 30, 365), and then grabbing each's minute data. the.hist() method counts the frequency\n",
    "of each value per minute in the bins. Bins run from 0 to 60 minutes.\n",
    "\"\"\"\n",
    "\n",
    "histogram = data.groupby('Plan Duration')['minutes'].plot.hist(bins = np.arange(61), alpha=0.5, normed=True)\n",
    "plt.legend(['Walkup', 'Monthly', 'Annual'])\n",
    "plt.text(36, 0.05, \"Free Trips\\n\\nAdditional Fee\", ha='right',\n",
    "         size=18, rotation=90, alpha=0.5, color='black')\n",
    "plt.axvline(30, linestyle='--', color='red', alpha=0.3);\n",
    "\n",
    "plt.xlabel('Ride Duration(minutes)')\n",
    "plt.title('Distribution of Ride Times for varying Plan Durations')"
   ]
  },
  {
   "cell_type": "code",
   "execution_count": 34,
   "metadata": {
    "scrolled": true
   },
   "outputs": [
    {
     "data": {
      "text/plain": [
       "Passholder Type\n",
       "Flex Pass       19.853105\n",
       "Monthly Pass    14.324154\n",
       "Staff Annual    45.112565\n",
       "Walk-up         50.018096\n",
       "Name: minutes, dtype: float64"
      ]
     },
     "execution_count": 34,
     "metadata": {},
     "output_type": "execute_result"
    }
   ],
   "source": [
    "\"\"\"\n",
    "Mean number of people that use each Pass\n",
    "\"\"\"\n",
    "\n",
    "output = data.groupby(['Passholder Type'])['minutes'].mean()\n",
    "output"
   ]
  },
  {
   "cell_type": "code",
   "execution_count": null,
   "metadata": {},
   "outputs": [],
   "source": [
    "!pip install geopy"
   ]
  },
  {
   "cell_type": "code",
   "execution_count": 35,
   "metadata": {
    "scrolled": true
   },
   "outputs": [
    {
     "name": "stdout",
     "output_type": "stream",
     "text": [
      "Starting Station ID Frequency\n",
      "Trip ID    3069.0\n",
      "dtype: float64 Trip ID    5138\n",
      "dtype: int64\n"
     ]
    }
   ],
   "source": [
    "\"\"\"\n",
    "This function finds the starting station with the highest number of trips and how many trips\n",
    "\"\"\"\n",
    "\n",
    "frequency_stations = data.pivot_table(index = ['Starting Station ID'],values = 'Trip ID', aggfunc = 'count')\n",
    "m = frequency_stations.idxmax()\n",
    "val = frequency_stations.max()\n",
    "print('Starting Station ID', 'Frequency')\n",
    "print(m,val)"
   ]
  },
  {
   "cell_type": "code",
   "execution_count": 36,
   "metadata": {
    "scrolled": true
   },
   "outputs": [
    {
     "name": "stdout",
     "output_type": "stream",
     "text": [
      "Ending Station ID Frequency\n",
      "Trip ID    3005.0\n",
      "dtype: float64 Trip ID    6262\n",
      "dtype: int64\n"
     ]
    }
   ],
   "source": [
    "\"\"\"\n",
    "This function finds the ending station with the highest number of trips and how many trips\n",
    "\"\"\"\n",
    "\n",
    "frequency_stations = data.pivot_table(index = ['Ending Station ID'],values = 'Trip ID', aggfunc = 'count')\n",
    "m = frequency_stations.idxmax()\n",
    "val = frequency_stations.max()\n",
    "print('Ending Station ID', 'Frequency')\n",
    "print(m,val)"
   ]
  },
  {
   "cell_type": "code",
   "execution_count": 37,
   "metadata": {},
   "outputs": [],
   "source": [
    "\"\"\"\n",
    "Constructing a new matrix with all row indeces, whose columns are the Starting Station lat/long and Ending Station lat/long\n",
    "\"\"\"\n",
    "\n",
    "new_data = data[['Starting Station Latitude', 'Starting Station Longitude',\n",
    "      'Ending Station Latitude', 'Ending Station Longitude']]"
   ]
  },
  {
   "cell_type": "code",
   "execution_count": 38,
   "metadata": {
    "scrolled": true
   },
   "outputs": [
    {
     "name": "stderr",
     "output_type": "stream",
     "text": [
      "/home/sachk/.local/lib/python3.6/site-packages/ipykernel_launcher.py:5: SettingWithCopyWarning: \n",
      "A value is trying to be set on a copy of a slice from a DataFrame.\n",
      "Try using .loc[row_indexer,col_indexer] = value instead\n",
      "\n",
      "See the caveats in the documentation: http://pandas.pydata.org/pandas-docs/stable/indexing.html#indexing-view-versus-copy\n",
      "  \"\"\"\n",
      "/home/sachk/.local/lib/python3.6/site-packages/pandas/core/frame.py:3163: SettingWithCopyWarning: \n",
      "A value is trying to be set on a copy of a slice from a DataFrame\n",
      "\n",
      "See the caveats in the documentation: http://pandas.pydata.org/pandas-docs/stable/indexing.html#indexing-view-versus-copy\n",
      "  self._where(-key, value, inplace=True)\n"
     ]
    }
   ],
   "source": [
    "\"\"\"\n",
    "If any column value is null or NaN, thenn it is replaced with -1\n",
    "\"\"\"\n",
    "\n",
    "new_data[new_data.isnull().values] = -1"
   ]
  },
  {
   "cell_type": "code",
   "execution_count": 39,
   "metadata": {},
   "outputs": [
    {
     "data": {
      "text/plain": [
       "False"
      ]
     },
     "execution_count": 39,
     "metadata": {},
     "output_type": "execute_result"
    }
   ],
   "source": [
    "\"\"\"\n",
    "Just to check make sure any null values are replaced\n",
    "\"\"\"\n",
    "\n",
    "new_data.isnull().values.any()"
   ]
  },
  {
   "cell_type": "code",
   "execution_count": 41,
   "metadata": {},
   "outputs": [
    {
     "data": {
      "text/plain": [
       "0.0"
      ]
     },
     "execution_count": 41,
     "metadata": {},
     "output_type": "execute_result"
    }
   ],
   "source": [
    "def distance_func(row):\n",
    "    data = []\n",
    "    flag = False\n",
    "    for i in range(0, 2):\n",
    "        string = ''\n",
    "        if(i == 0):\n",
    "            string = 'Starting '\n",
    "        else:\n",
    "            string = 'Ending '\n",
    "        lat = row[string + 'Station Latitude']\n",
    "        long = row[string + 'Station Longitude']\n",
    "        if( (lat != -1 and lat != 0) and (lat != -1 and lat != 0) ):\n",
    "            splitted = string.split(',')\n",
    "            data.append((lat, long))\n",
    "        else:\n",
    "            flag = True\n",
    "            break\n",
    "    if(flag):\n",
    "        return -1\n",
    "    else:\n",
    "        return distance.distance(data[0], data[1]).miles\n",
    "\n",
    "# A helper function that finds the distance between the starting and ending stations\n",
    "distance_func(data.iloc[3])"
   ]
  },
  {
   "cell_type": "code",
   "execution_count": 42,
   "metadata": {
    "scrolled": true
   },
   "outputs": [],
   "source": [
    "data['distance'] = new_data.apply(distance_func, axis = 1)"
   ]
  },
  {
   "cell_type": "code",
   "execution_count": 44,
   "metadata": {},
   "outputs": [
    {
     "data": {
      "text/plain": [
       "0.6481394196315198"
      ]
     },
     "execution_count": 44,
     "metadata": {},
     "output_type": "execute_result"
    }
   ],
   "source": [
    "#Mean distance metric\n",
    "\n",
    "data['distance'].mean()"
   ]
  },
  {
   "cell_type": "code",
   "execution_count": 45,
   "metadata": {},
   "outputs": [
    {
     "name": "stderr",
     "output_type": "stream",
     "text": [
      "/home/sachk/.local/lib/python3.6/site-packages/matplotlib/axes/_axes.py:6510: MatplotlibDeprecationWarning: \n",
      "The 'normed' kwarg was deprecated in Matplotlib 2.1 and will be removed in 3.1. Use 'density' instead.\n",
      "  alternative=\"'density'\", removal=\"3.1\")\n"
     ]
    },
    {
     "data": {
      "image/png": "[encoded data removed]",
      "text/plain": [
       "<Figure size 432x288 with 1 Axes>"
      ]
     },
     "metadata": {
      "needs_background": "light"
     },
     "output_type": "display_data"
    }
   ],
   "source": [
    "\"\"\"\n",
    "Plotting the distribution of distances from 0 to 8 miles\n",
    "\"\"\"\n",
    "\n",
    "data['distance'].hist(bins = np.arange(0, 8, 0.1), normed = True)\n",
    "plt.xlabel('Distance(miles)')\n",
    "plt.ylabel('Frequency')\n",
    "plt.title('Distribution of Ride Distances')\n",
    "plt.axvline(data['distance'].mean(), linestyle='--', color='black', alpha=0.7);"
   ]
  },
  {
   "cell_type": "code",
   "execution_count": 46,
   "metadata": {},
   "outputs": [
    {
     "data": {
      "text/plain": [
       "Text(0, 0.5, 'Number of Trips')"
      ]
     },
     "execution_count": 46,
     "metadata": {},
     "output_type": "execute_result"
    },
    {
     "data": {
      "image/png": "[encoded data removed]",
      "text/plain": [
       "<Figure size 432x288 with 1 Axes>"
      ]
     },
     "metadata": {
      "needs_background": "light"
     },
     "output_type": "display_data"
    }
   ],
   "source": [
    "\"\"\"\n",
    "PLotting the distribution of trip frequency for plans across seasons\n",
    "\"\"\"\n",
    "\n",
    "data.pivot_table(index = 'season', columns = 'Plan Duration', values = 'Trip ID', aggfunc = 'count').plot.bar(title = 'Types of Plans Used per Season')\n",
    "plt.legend(['Walkup', 'Monthly', 'Annual'])\n",
    "plt.ylabel('Number of Trips')"
   ]
  },
  {
   "cell_type": "code",
   "execution_count": 47,
   "metadata": {
    "scrolled": true
   },
   "outputs": [
    {
     "name": "stdout",
     "output_type": "stream",
     "text": [
      "Mean Seasonal Counts over Plans\n",
      "Walkup  : 10306.0\n",
      "Monthly : 20230.0\n",
      "Annual  : 2379.25\n"
     ]
    }
   ],
   "source": [
    "seasonal_plans = data.pivot_table(index = 'season', columns = 'Plan Duration', values = 'Trip ID', aggfunc = 'count').fillna(0)\n",
    "print('Mean Seasonal Counts over Plans')\n",
    "print('Walkup  :',seasonal_plans[0.0].mean())\n",
    "print('Monthly :', seasonal_plans[30.0].mean())\n",
    "print('Annual  :', seasonal_plans[365.0].mean())"
   ]
  },
  {
   "cell_type": "code",
   "execution_count": 48,
   "metadata": {},
   "outputs": [
    {
     "data": {
      "text/plain": [
       "season\n",
       "fall      25.338949\n",
       "spring    30.016180\n",
       "summer    23.945291\n",
       "winter    28.270521\n",
       "Name: minutes, dtype: float64"
      ]
     },
     "execution_count": 48,
     "metadata": {},
     "output_type": "execute_result"
    }
   ],
   "source": [
    "\"\"\"\n",
    "Mean plan duration over all seasons\n",
    "\"\"\"\n",
    "\n",
    "data.groupby('season')['minutes'].mean()"
   ]
  },
  {
   "cell_type": "code",
   "execution_count": 50,
   "metadata": {
    "scrolled": false
   },
   "outputs": [
    {
     "name": "stderr",
     "output_type": "stream",
     "text": [
      "/home/sachk/.local/lib/python3.6/site-packages/matplotlib/axes/_axes.py:6510: MatplotlibDeprecationWarning: \n",
      "The 'normed' kwarg was deprecated in Matplotlib 2.1 and will be removed in 3.1. Use 'density' instead.\n",
      "  alternative=\"'density'\", removal=\"3.1\")\n"
     ]
    },
    {
     "name": "stdout",
     "output_type": "stream",
     "text": [
      "season\n",
      "fall      AxesSubplot(0.125,0.125;0.775x0.755)\n",
      "spring    AxesSubplot(0.125,0.125;0.775x0.755)\n",
      "summer    AxesSubplot(0.125,0.125;0.775x0.755)\n",
      "winter    AxesSubplot(0.125,0.125;0.775x0.755)\n",
      "Name: minutes, dtype: object\n"
     ]
    },
    {
     "data": {
      "text/plain": [
       "Text(0, 0.5, 'Frequency')"
      ]
     },
     "execution_count": 50,
     "metadata": {},
     "output_type": "execute_result"
    },
    {
     "data": {
      "image/png": "[encoded data removed]",
      "text/plain": [
       "<Figure size 432x288 with 1 Axes>"
      ]
     },
     "metadata": {
      "needs_background": "light"
     },
     "output_type": "display_data"
    }
   ],
   "source": [
    "#Histogram of the frequency of ride durations across all seasons\n",
    "histogram = data.groupby('season')['minutes'].hist(bins = np.arange(61), alpha=0.6, normed=True, grid = False)\n",
    "print(histogram)\n",
    "plt.legend(['fall', 'spring', 'summer', 'winter'])\n",
    "plt.title('Seasonal Ride Duration Distribution')\n",
    "plt.xlabel('Ride Duration (mins)')\n",
    "plt.ylabel('Frequency')"
   ]
  },
  {
   "cell_type": "code",
   "execution_count": 51,
   "metadata": {},
   "outputs": [
    {
     "data": {
      "text/plain": [
       "40.61715762946486"
      ]
     },
     "execution_count": 51,
     "metadata": {},
     "output_type": "execute_result"
    }
   ],
   "source": [
    "#Adding a speed column to the dataframe which takes distance by minutes\n",
    "\n",
    "data['speed'] = 60*data['distance']/data['minutes']\n",
    "data['speed'].max()"
   ]
  },
  {
   "cell_type": "code",
   "execution_count": 52,
   "metadata": {
    "scrolled": true
   },
   "outputs": [
    {
     "data": {
      "image/png": "[encoded data removed]",
      "text/plain": [
       "<Figure size 432x288 with 4 Axes>"
      ]
     },
     "metadata": {
      "needs_background": "light"
     },
     "output_type": "display_data"
    }
   ],
   "source": [
    "#PLot seasonal distribution of ride distributions on separate plots, because all have the same distribution\n",
    "\n",
    "fig, ax = plt.subplots(2,2)\n",
    "fig.subplots_adjust(wspace=0.4)\n",
    "histogram = data.hist(bins = np.arange(50),by = 'season', column = 'minutes', alpha=0.5, density=True, grid = False, ax = ax)"
   ]
  },
  {
   "cell_type": "code",
   "execution_count": 53,
   "metadata": {},
   "outputs": [
    {
     "data": {
      "image/png": "[encoded data removed]",
      "text/plain": [
       "<Figure size 864x504 with 4 Axes>"
      ]
     },
     "metadata": {
      "needs_background": "light"
     },
     "output_type": "display_data"
    }
   ],
   "source": [
    "\"\"\"\n",
    "Plot of plan frequnecy across all seasons. The lines are just the peaks of the bars\n",
    "\"\"\"\n",
    "\n",
    "\n",
    "fig, ax = plt.subplots(2,2, figsize = (12,7))\n",
    "fig.subplots_adjust(hspace=0.4)\n",
    "season_durations = data.pivot_table(index = ['season', 'Plan Duration'], columns = 'day', values = 'Trip ID', aggfunc = 'count')\n",
    "season_durations.loc['fall'].T.plot.bar(ax = ax[0][0], title = 'fall')\n",
    "season_durations.loc['fall'].T.plot(ax = ax[0][0])\n",
    "season_durations.loc['spring'].T.plot.bar(ax = ax[0][1], title = 'spring')\n",
    "season_durations.loc['spring'].T.plot(ax = ax[0][1])\n",
    "season_durations.loc['summer'].T.plot.bar(ax = ax[1][0], title = 'summer')\n",
    "season_durations.loc['summer'].T.plot(ax = ax[1][0])\n",
    "season_durations.loc['winter'].T.plot.bar(ax= ax[1][1], title = 'winter')\n",
    "season_durations.loc['winter'].T.plot(ax = ax[1][1])\n",
    "\n",
    "for a in ax:\n",
    "    for b in a:\n",
    "        b.legend(['Walkup', 'Monthly', 'Annual'])\n",
    "        b.set_ylabel('Counts')"
   ]
  },
  {
   "cell_type": "code",
   "execution_count": 54,
   "metadata": {},
   "outputs": [
    {
     "name": "stderr",
     "output_type": "stream",
     "text": [
      "/home/sachk/.local/lib/python3.6/site-packages/matplotlib/axes/_axes.py:6510: MatplotlibDeprecationWarning: \n",
      "The 'normed' kwarg was deprecated in Matplotlib 2.1 and will be removed in 3.1. Use 'density' instead.\n",
      "  alternative=\"'density'\", removal=\"3.1\")\n"
     ]
    },
    {
     "data": {
      "text/plain": [
       "<matplotlib.legend.Legend at 0x7f1ca29e4c18>"
      ]
     },
     "execution_count": 54,
     "metadata": {},
     "output_type": "execute_result"
    },
    {
     "data": {
      "image/png": "[encoded data removed]",
      "text/plain": [
       "<Figure size 432x288 with 1 Axes>"
      ]
     },
     "metadata": {
      "needs_background": "light"
     },
     "output_type": "display_data"
    }
   ],
   "source": [
    "\"\"\"\n",
    "Speed Distributions across all Seasons for different Plan holders. histtype is step chosen because all distributions are the same\n",
    "shape\n",
    "\"\"\"\n",
    "\n",
    "data.groupby(by = ['season', 'Plan Duration'])['speed'].plot.hist(bins = np.arange(0, 50), histtype = 'step', normed = True)\n",
    "plt.title('Speed Distributions across Seasons')\n",
    "plt.xlabel('Speed(miles/hr)')\n",
    "plt.legend(['fall', 'spring', 'summer','winter'])"
   ]
  },
  {
   "cell_type": "code",
   "execution_count": 55,
   "metadata": {},
   "outputs": [
    {
     "data": {
      "text/html": [
       "<div>\n",
       "<style scoped>\n",
       "    .dataframe tbody tr th:only-of-type {\n",
       "        vertical-align: middle;\n",
       "    }\n",
       "\n",
       "    .dataframe tbody tr th {\n",
       "        vertical-align: top;\n",
       "    }\n",
       "\n",
       "    .dataframe thead th {\n",
       "        text-align: right;\n",
       "    }\n",
       "</style>\n",
       "<table border=\"1\" class=\"dataframe\">\n",
       "  <thead>\n",
       "    <tr style=\"text-align: right;\">\n",
       "      <th>Passholder Type</th>\n",
       "      <th>Flex Pass</th>\n",
       "      <th>Monthly Pass</th>\n",
       "      <th>Staff Annual</th>\n",
       "      <th>Walk-up</th>\n",
       "    </tr>\n",
       "    <tr>\n",
       "      <th>Trip Route Category</th>\n",
       "      <th></th>\n",
       "      <th></th>\n",
       "      <th></th>\n",
       "      <th></th>\n",
       "    </tr>\n",
       "  </thead>\n",
       "  <tbody>\n",
       "    <tr>\n",
       "      <th>One Way</th>\n",
       "      <td>9034</td>\n",
       "      <td>77532</td>\n",
       "      <td>299</td>\n",
       "      <td>32777</td>\n",
       "    </tr>\n",
       "    <tr>\n",
       "      <th>Round Trip</th>\n",
       "      <td>483</td>\n",
       "      <td>3772</td>\n",
       "      <td>83</td>\n",
       "      <td>8447</td>\n",
       "    </tr>\n",
       "  </tbody>\n",
       "</table>\n",
       "</div>"
      ],
      "text/plain": [
       "Passholder Type      Flex Pass  Monthly Pass  Staff Annual  Walk-up\n",
       "Trip Route Category                                                \n",
       "One Way                   9034         77532           299    32777\n",
       "Round Trip                 483          3772            83     8447"
      ]
     },
     "execution_count": 55,
     "metadata": {},
     "output_type": "execute_result"
    }
   ],
   "source": [
    "#Passholder Type and Trip Route Category Correlation Matrix\n",
    "\n",
    "data.pivot_table(index = 'Trip Route Category', columns = 'Passholder Type', values = 'Trip ID', aggfunc = 'count')"
   ]
  },
  {
   "cell_type": "code",
   "execution_count": 56,
   "metadata": {},
   "outputs": [
    {
     "data": {
      "text/plain": [
       "Text(0.5, 1.0, 'Distribution of Routes across Different Pass Holders')"
      ]
     },
     "execution_count": 56,
     "metadata": {},
     "output_type": "execute_result"
    },
    {
     "data": {
      "image/png": "[encoded data removed]",
      "text/plain": [
       "<Figure size 432x288 with 1 Axes>"
      ]
     },
     "metadata": {
      "needs_background": "light"
     },
     "output_type": "display_data"
    }
   ],
   "source": [
    "#A PLot of the table above\n",
    "\n",
    "data.pivot_table(index = 'Trip Route Category', columns = 'Passholder Type', values = 'Trip ID', aggfunc = 'count').T.plot.bar()\n",
    "plt.ylabel('Counts')\n",
    "plt.title('Distribution of Routes across Different Pass Holders')"
   ]
  },
  {
   "cell_type": "code",
   "execution_count": 57,
   "metadata": {
    "scrolled": true
   },
   "outputs": [
    {
     "name": "stdout",
     "output_type": "stream",
     "text": [
      "hour\n",
      "0     101.0\n",
      "1      87.0\n",
      "2      83.0\n",
      "3      73.0\n",
      "4     146.0\n",
      "5      47.0\n",
      "6     335.0\n",
      "7     612.0\n",
      "8     573.0\n",
      "9     359.0\n",
      "10    253.0\n",
      "11    411.0\n",
      "12    531.0\n",
      "13    548.0\n",
      "14    481.0\n",
      "15    372.0\n",
      "16    736.0\n",
      "17    650.0\n",
      "18    576.0\n",
      "19    510.0\n",
      "20    324.0\n",
      "21    224.0\n",
      "22    204.0\n",
      "23    177.0\n",
      "dtype: float64\n",
      "hour\n",
      "0     3008.0\n",
      "1     3082.0\n",
      "2     3005.0\n",
      "3     3005.0\n",
      "4     3047.0\n",
      "5     3067.0\n",
      "6     3014.0\n",
      "7     3014.0\n",
      "8     3014.0\n",
      "9     3034.0\n",
      "10    3031.0\n",
      "11    3030.0\n",
      "12    3030.0\n",
      "13    3069.0\n",
      "14    3069.0\n",
      "15    3069.0\n",
      "16    3030.0\n",
      "17    3030.0\n",
      "18    3005.0\n",
      "19    3005.0\n",
      "20    3005.0\n",
      "21    3064.0\n",
      "22    3022.0\n",
      "23    3022.0\n",
      "dtype: float64\n"
     ]
    }
   ],
   "source": [
    "#I am trying to create a new dataframe whose row index are hours in the day, and the columns represent the corresponding max count\n",
    "#the most popular starting and ending stations\n",
    "print(data.pivot_table(index = 'hour', columns = 'Starting Station ID', values = 'Trip ID', aggfunc = 'count').fillna(0).max(axis = 1))\n",
    "print(data.pivot_table(index = 'hour', columns = 'Starting Station ID', values = 'Trip ID', aggfunc = 'count').fillna(0).idxmax(axis = 1))\n",
    "df = pd.DataFrame(data = {'maxvals_start': data.pivot_table(index = 'hour', columns = 'Starting Station ID', values = 'Trip ID', aggfunc = 'count').fillna(0).max(axis = 1),\n",
    "                                 'indeces_start': data.pivot_table(index = 'hour', columns = 'Starting Station ID', values = 'Trip ID', aggfunc = 'count').fillna(0).idxmax(axis = 1),\n",
    "                               'maxvals_end': data.pivot_table(index = 'hour', columns = 'Ending Station ID', values = 'Trip ID', aggfunc = 'count').fillna(0).max(axis = 1),\n",
    "                                'indeces_end': data.pivot_table(index = 'hour', columns = 'Ending Station ID', values = 'Trip ID', aggfunc = 'count').fillna(0).idxmax(axis = 1)\n",
    "                               })"
   ]
  },
  {
   "cell_type": "code",
   "execution_count": null,
   "metadata": {
    "scrolled": true
   },
   "outputs": [],
   "source": [
    "df"
   ]
  },
  {
   "cell_type": "code",
   "execution_count": 61,
   "metadata": {},
   "outputs": [
    {
     "name": "stdout",
     "output_type": "stream",
     "text": [
      "Morning 3014.0    3\n",
      "3005.0    2\n",
      "3030.0    1\n",
      "3031.0    1\n",
      "3034.0    1\n",
      "3067.0    1\n",
      "3047.0    1\n",
      "3082.0    1\n",
      "3008.0    1\n",
      "Name: indeces_start, dtype: int64\n",
      "Evening 3005.0    3\n",
      "3069.0    3\n",
      "3030.0    3\n",
      "3022.0    2\n",
      "3064.0    1\n",
      "Name: indeces_start, dtype: int64\n"
     ]
    }
   ],
   "source": [
    "#Frequency of starting stations in the morning and evening\n",
    "\n",
    "print('Morning', df.iloc[0:12]['indeces_start'].value_counts())\n",
    "print('Evening', df.iloc[12:24]['indeces_start'].value_counts())"
   ]
  },
  {
   "cell_type": "code",
   "execution_count": 62,
   "metadata": {},
   "outputs": [
    {
     "name": "stdout",
     "output_type": "stream",
     "text": [
      "Morning Start Indeces\n",
      "3014.0      4560.0\n",
      "3005.0      3132.0\n",
      "3030.0      2328.0\n",
      "3031.0      253.0\n",
      "3034.0      359.0\n",
      "3067.0      47.0\n",
      "3047.0      146.0\n",
      "3082.0      87.0\n",
      "3008.0      101.0\n",
      "Evening Start Indeces\n",
      "3005.0      4698.0\n",
      "3069.0      4203.0\n",
      "3030.0      6984.0\n",
      "3022.0      762.0\n",
      "3064.0      224.0\n"
     ]
    }
   ],
   "source": [
    "#printing the most popular starting stations and their associated counts in the morning\n",
    "print('Morning Start Indeces')\n",
    "for i in df.iloc[0:12]['indeces_start'].value_counts().index.values:\n",
    "    print(str(i) + \"      \" + str(df.iloc[0:12]['indeces_start'].value_counts().loc[i]*( sum(  df['maxvals_start'].loc[np.where(df['indeces_start'] == i)].values) ) ) )\n",
    "    \n",
    "#printing the most popular starting stations and their associated counts in the evening\n",
    "print('Evening Start Indeces')\n",
    "for i in df.iloc[12:24]['indeces_start'].value_counts().index.values:\n",
    "    print(str(i) + \"      \" + str(df.iloc[12:24]['indeces_start'].value_counts().loc[i]*( sum(  df['maxvals_start'].loc[np.where(df['indeces_start'] == i)].values) ) ) )"
   ]
  },
  {
   "cell_type": "code",
   "execution_count": 63,
   "metadata": {},
   "outputs": [
    {
     "name": "stdout",
     "output_type": "stream",
     "text": [
      "Morning End Indeces\n",
      "3005.0      8020.0\n",
      "3031.0      9420.0\n",
      "3069.0      3462.0\n",
      "3019.0      165.0\n",
      "3008.0      74.0\n",
      "Evening End Indeces\n",
      "3031.0      11775.0\n",
      "3014.0      2814.0\n",
      "3069.0      3462.0\n",
      "3038.0      273.0\n",
      "3042.0      1079.0\n",
      "3022.0      412.0\n"
     ]
    }
   ],
   "source": [
    "#printing the most popular ending stations and their associated counts in the evening\n",
    "print('Morning End Indeces')\n",
    "for i in df.iloc[0:12]['indeces_end'].value_counts().index.values:\n",
    "    print(str(i) + \"      \" + str(df.iloc[0:12]['indeces_end'].value_counts().loc[i]*( sum(  df['maxvals_end'].loc[np.where(df['indeces_end'] == i)].values) ) ) )\n",
    "    \n",
    "#printing the most popular ending stations and their associated counts in the evening\n",
    "print('Evening End Indeces')\n",
    "for i in df.iloc[12:24]['indeces_end'].value_counts().index.values:\n",
    "    print(str(i) + \"      \" + str(df.iloc[12:24]['indeces_end'].value_counts().loc[i]*( sum(  df['maxvals_end'].loc[np.where(df['indeces_end'] == i)].values) ) ) )"
   ]
  },
  {
   "cell_type": "code",
   "execution_count": 59,
   "metadata": {},
   "outputs": [
    {
     "name": "stdout",
     "output_type": "stream",
     "text": [
      "Morning 3005.0    4\n",
      "3031.0    4\n",
      "3069.0    2\n",
      "3019.0    1\n",
      "3008.0    1\n",
      "Name: indeces_end, dtype: int64\n",
      "Afternoon 3031.0    5\n",
      "3014.0    2\n",
      "3069.0    2\n",
      "3038.0    1\n",
      "3042.0    1\n",
      "3022.0    1\n",
      "Name: indeces_end, dtype: int64\n"
     ]
    }
   ],
   "source": [
    "#Frequnecy of starting stations in the morning and afternoon\n",
    "\n",
    "print('Morning', df.iloc[0:12]['indeces_end'].value_counts())\n",
    "print('Afternoon', df.iloc[12:24]['indeces_end'].value_counts())"
   ]
  }
 ],
 "metadata": {
  "kernelspec": {
   "display_name": "Python 3",
   "language": "python",
   "name": "python3"
  },
  "language_info": {
   "codemirror_mode": {
    "name": "ipython",
    "version": 3
   },
   "file_extension": ".py",
   "mimetype": "text/x-python",
   "name": "python",
   "nbconvert_exporter": "python",
   "pygments_lexer": "ipython3",
   "version": "3.6.5"
  }
 },
 "nbformat": 4,
 "nbformat_minor": 2
}
